{
  "cells": [
    {
      "cell_type": "markdown",
      "metadata": {
        "id": "view-in-github",
        "colab_type": "text"
      },
      "source": [
        "<a href=\"https://colab.research.google.com/github/Victor-Hernandez-Vivanco/ML-Marathon/blob/main/ML_Marathon.ipynb\" target=\"_parent\"><img src=\"https://colab.research.google.com/assets/colab-badge.svg\" alt=\"Open In Colab\"/></a>"
      ]
    },
    {
      "cell_type": "markdown",
      "id": "bde94eeb-b52c-4c00-9b29-abea99f3e818",
      "metadata": {
        "id": "bde94eeb-b52c-4c00-9b29-abea99f3e818"
      },
      "source": [
        "ML Marathon"
      ]
    },
    {
      "cell_type": "markdown",
      "id": "7f9ce4c7-e4ad-44d2-bd58-86ed95e52ea3",
      "metadata": {
        "id": "7f9ce4c7-e4ad-44d2-bd58-86ed95e52ea3"
      },
      "source": [
        "-------- PRIMERA ETAPA ---------------"
      ]
    },
    {
      "cell_type": "markdown",
      "id": "8e3ff2e8-eaa3-4d8a-8486-2b76235bce31",
      "metadata": {
        "id": "8e3ff2e8-eaa3-4d8a-8486-2b76235bce31"
      },
      "source": [
        "FASE DE PREPARACIÓN DE LOS DATOS"
      ]
    },
    {
      "cell_type": "markdown",
      "id": "4ab20859-2053-45f8-a274-e7275ca386bc",
      "metadata": {
        "id": "4ab20859-2053-45f8-a274-e7275ca386bc"
      },
      "source": [
        "INTRODUCCIÓN"
      ]
    },
    {
      "cell_type": "markdown",
      "id": "6c39e5be-eb63-4397-b161-aaad08a4dae9",
      "metadata": {
        "id": "6c39e5be-eb63-4397-b161-aaad08a4dae9"
      },
      "source": [
        "El data frame que se comenzará a trabajar corresponde a datos de una marathon"
      ]
    },
    {
      "cell_type": "markdown",
      "id": "1e572570-2072-4fe1-9aff-76ff1c211acd",
      "metadata": {
        "id": "1e572570-2072-4fe1-9aff-76ff1c211acd"
      },
      "source": [
        "Importación de librerias"
      ]
    },
    {
      "cell_type": "code",
      "execution_count": null,
      "id": "3f145ce3-0904-41f7-aa42-685b5eda548b",
      "metadata": {
        "id": "3f145ce3-0904-41f7-aa42-685b5eda548b"
      },
      "outputs": [],
      "source": [
        "import pandas as pd"
      ]
    },
    {
      "cell_type": "markdown",
      "id": "4824b0b5-3353-476d-b5e7-f3dd5bf468a9",
      "metadata": {
        "id": "4824b0b5-3353-476d-b5e7-f3dd5bf468a9"
      },
      "source": [
        "Se realiza la lectura del CSV mediante la libreria Pandas, para confirmar dicha lectura usamos el metodo shape el cual nos muestra la cantidad de libeas y filas del CSV"
      ]
    },
    {
      "cell_type": "code",
      "execution_count": null,
      "id": "cf8136d2-1c32-4289-84bf-9158a7c77f23",
      "metadata": {
        "id": "cf8136d2-1c32-4289-84bf-9158a7c77f23",
        "outputId": "6758ba4c-e58e-4b7f-d64c-8203614f8607"
      },
      "outputs": [
        {
          "name": "stdout",
          "output_type": "stream",
          "text": [
            "CSV Leido con exito\n",
            "\n",
            "°°°°°° SHAPE °°°°°°°\n",
            "\n",
            "Rows 87\n",
            "Files 10\n"
          ]
        }
      ],
      "source": [
        "data = pd.read_csv(r\"C:\\Users\\Victor\\Desktop\\DUOC\\Semestre 5\\FUNDAMENTOS DE MACHINE LEARNING\\Otros\\Ejercicio 3\\MarathonData.csv\", sep=\",\")\n",
        "print (\"CSV Leido con exito\")\n",
        "# Asignando filas y columnas a variables\n",
        "print(\"\")\n",
        "rows, files = data.shape\n",
        "print(\" SHAPE \".center(20, \"°\"))\n",
        "print(\"\")\n",
        "# Mostrar el resultado en el formato deseado\n",
        "print(f\"Rows {rows}\\nFiles {files}\")"
      ]
    },
    {
      "cell_type": "markdown",
      "id": "98f9ccea-4582-4f6d-bcc5-bffd14c4889a",
      "metadata": {
        "id": "98f9ccea-4582-4f6d-bcc5-bffd14c4889a"
      },
      "source": [
        "Revisamos las primeras 10 filas del Data Frame para ver su contenido mediante la función \"head\""
      ]
    },
    {
      "cell_type": "code",
      "execution_count": null,
      "id": "038b235c-8990-402e-9dd3-09d641a6b6dc",
      "metadata": {
        "id": "038b235c-8990-402e-9dd3-09d641a6b6dc",
        "outputId": "ca0a2455-1e96-4360-d767-77ab2d25e888"
      },
      "outputs": [
        {
          "data": {
            "text/html": [
              "<div>\n",
              "<style scoped>\n",
              "    .dataframe tbody tr th:only-of-type {\n",
              "        vertical-align: middle;\n",
              "    }\n",
              "\n",
              "    .dataframe tbody tr th {\n",
              "        vertical-align: top;\n",
              "    }\n",
              "\n",
              "    .dataframe thead th {\n",
              "        text-align: right;\n",
              "    }\n",
              "</style>\n",
              "<table border=\"1\" class=\"dataframe\">\n",
              "  <thead>\n",
              "    <tr style=\"text-align: right;\">\n",
              "      <th></th>\n",
              "      <th>id</th>\n",
              "      <th>Marathon</th>\n",
              "      <th>Name</th>\n",
              "      <th>Category</th>\n",
              "      <th>km4week</th>\n",
              "      <th>sp4week</th>\n",
              "      <th>CrossTraining</th>\n",
              "      <th>Wall21</th>\n",
              "      <th>MarathonTime</th>\n",
              "      <th>CATEGORY</th>\n",
              "    </tr>\n",
              "  </thead>\n",
              "  <tbody>\n",
              "    <tr>\n",
              "      <th>0</th>\n",
              "      <td>1</td>\n",
              "      <td>Prague17</td>\n",
              "      <td>Blair MORGAN</td>\n",
              "      <td>MAM</td>\n",
              "      <td>132.8</td>\n",
              "      <td>14.434783</td>\n",
              "      <td>NaN</td>\n",
              "      <td>1.16</td>\n",
              "      <td>2.37</td>\n",
              "      <td>A</td>\n",
              "    </tr>\n",
              "    <tr>\n",
              "      <th>1</th>\n",
              "      <td>2</td>\n",
              "      <td>Prague17</td>\n",
              "      <td>Robert Heczko</td>\n",
              "      <td>MAM</td>\n",
              "      <td>68.6</td>\n",
              "      <td>13.674419</td>\n",
              "      <td>NaN</td>\n",
              "      <td>1.23</td>\n",
              "      <td>2.59</td>\n",
              "      <td>A</td>\n",
              "    </tr>\n",
              "    <tr>\n",
              "      <th>2</th>\n",
              "      <td>3</td>\n",
              "      <td>Prague17</td>\n",
              "      <td>Michon Jerome</td>\n",
              "      <td>MAM</td>\n",
              "      <td>82.7</td>\n",
              "      <td>13.520436</td>\n",
              "      <td>NaN</td>\n",
              "      <td>1.30</td>\n",
              "      <td>2.66</td>\n",
              "      <td>A</td>\n",
              "    </tr>\n",
              "    <tr>\n",
              "      <th>3</th>\n",
              "      <td>4</td>\n",
              "      <td>Prague17</td>\n",
              "      <td>Daniel Or lek</td>\n",
              "      <td>M45</td>\n",
              "      <td>137.5</td>\n",
              "      <td>12.258544</td>\n",
              "      <td>NaN</td>\n",
              "      <td>1.32</td>\n",
              "      <td>2.68</td>\n",
              "      <td>A</td>\n",
              "    </tr>\n",
              "    <tr>\n",
              "      <th>4</th>\n",
              "      <td>5</td>\n",
              "      <td>Prague17</td>\n",
              "      <td>Luk ? Mr zek</td>\n",
              "      <td>MAM</td>\n",
              "      <td>84.6</td>\n",
              "      <td>13.945055</td>\n",
              "      <td>NaN</td>\n",
              "      <td>1.36</td>\n",
              "      <td>2.74</td>\n",
              "      <td>A</td>\n",
              "    </tr>\n",
              "    <tr>\n",
              "      <th>5</th>\n",
              "      <td>6</td>\n",
              "      <td>Prague17</td>\n",
              "      <td>David Pecina</td>\n",
              "      <td>M40</td>\n",
              "      <td>42.2</td>\n",
              "      <td>13.612903</td>\n",
              "      <td>NaN</td>\n",
              "      <td>1.32</td>\n",
              "      <td>2.78</td>\n",
              "      <td>A</td>\n",
              "    </tr>\n",
              "    <tr>\n",
              "      <th>6</th>\n",
              "      <td>7</td>\n",
              "      <td>Prague17</td>\n",
              "      <td>Tomas Drabek</td>\n",
              "      <td>M40</td>\n",
              "      <td>89.0</td>\n",
              "      <td>12.594340</td>\n",
              "      <td>NaN</td>\n",
              "      <td>1.38</td>\n",
              "      <td>2.81</td>\n",
              "      <td>A</td>\n",
              "    </tr>\n",
              "    <tr>\n",
              "      <th>7</th>\n",
              "      <td>8</td>\n",
              "      <td>Prague17</td>\n",
              "      <td>Jan Rada</td>\n",
              "      <td>M45</td>\n",
              "      <td>106.0</td>\n",
              "      <td>12.694611</td>\n",
              "      <td>NaN</td>\n",
              "      <td>1.41</td>\n",
              "      <td>2.84</td>\n",
              "      <td>A</td>\n",
              "    </tr>\n",
              "    <tr>\n",
              "      <th>8</th>\n",
              "      <td>9</td>\n",
              "      <td>Prague17</td>\n",
              "      <td>Tomas Drabek</td>\n",
              "      <td>MAM</td>\n",
              "      <td>70.0</td>\n",
              "      <td>13.770492</td>\n",
              "      <td>ciclista 1h</td>\n",
              "      <td>1.38</td>\n",
              "      <td>2.83</td>\n",
              "      <td>A</td>\n",
              "    </tr>\n",
              "    <tr>\n",
              "      <th>9</th>\n",
              "      <td>10</td>\n",
              "      <td>Prague17</td>\n",
              "      <td>martin ?indel ?</td>\n",
              "      <td>M45</td>\n",
              "      <td>84.2</td>\n",
              "      <td>13.365079</td>\n",
              "      <td>NaN</td>\n",
              "      <td>1.35</td>\n",
              "      <td>2.86</td>\n",
              "      <td>A</td>\n",
              "    </tr>\n",
              "  </tbody>\n",
              "</table>\n",
              "</div>"
            ],
            "text/plain": [
              "   id  Marathon             Name Category  km4week    sp4week CrossTraining  \\\n",
              "0   1  Prague17     Blair MORGAN      MAM    132.8  14.434783           NaN   \n",
              "1   2  Prague17    Robert Heczko      MAM     68.6  13.674419           NaN   \n",
              "2   3  Prague17    Michon Jerome      MAM     82.7  13.520436           NaN   \n",
              "3   4  Prague17    Daniel Or lek      M45    137.5  12.258544           NaN   \n",
              "4   5  Prague17     Luk ? Mr zek      MAM     84.6  13.945055           NaN   \n",
              "5   6  Prague17     David Pecina      M40     42.2  13.612903           NaN   \n",
              "6   7  Prague17     Tomas Drabek      M40     89.0  12.594340           NaN   \n",
              "7   8  Prague17         Jan Rada      M45    106.0  12.694611           NaN   \n",
              "8   9  Prague17     Tomas Drabek      MAM     70.0  13.770492   ciclista 1h   \n",
              "9  10  Prague17  martin ?indel ?      M45     84.2  13.365079           NaN   \n",
              "\n",
              "  Wall21  MarathonTime CATEGORY  \n",
              "0   1.16          2.37        A  \n",
              "1   1.23          2.59        A  \n",
              "2   1.30          2.66        A  \n",
              "3   1.32          2.68        A  \n",
              "4   1.36          2.74        A  \n",
              "5   1.32          2.78        A  \n",
              "6   1.38          2.81        A  \n",
              "7   1.41          2.84        A  \n",
              "8   1.38          2.83        A  \n",
              "9   1.35          2.86        A  "
            ]
          },
          "execution_count": 468,
          "metadata": {},
          "output_type": "execute_result"
        }
      ],
      "source": [
        "data.head(10)"
      ]
    },
    {
      "cell_type": "markdown",
      "id": "42e0b141-9adb-4c1c-9973-426406a0290b",
      "metadata": {
        "id": "42e0b141-9adb-4c1c-9973-426406a0290b"
      },
      "source": [
        "Usamos la función \"info\" para revisar el tipo de datos y si existen datos faltantes"
      ]
    },
    {
      "cell_type": "code",
      "execution_count": null,
      "id": "b03a03ae-d69f-4c45-86e0-d57aba5569ec",
      "metadata": {
        "id": "b03a03ae-d69f-4c45-86e0-d57aba5569ec",
        "outputId": "220d4ceb-1dd8-43c9-d04b-140e3cadd745"
      },
      "outputs": [
        {
          "name": "stdout",
          "output_type": "stream",
          "text": [
            "<class 'pandas.core.frame.DataFrame'>\n",
            "RangeIndex: 87 entries, 0 to 86\n",
            "Data columns (total 10 columns):\n",
            " #   Column         Non-Null Count  Dtype  \n",
            "---  ------         --------------  -----  \n",
            " 0   id             87 non-null     int64  \n",
            " 1   Marathon       87 non-null     object \n",
            " 2   Name           87 non-null     object \n",
            " 3   Category       81 non-null     object \n",
            " 4   km4week        87 non-null     float64\n",
            " 5   sp4week        87 non-null     float64\n",
            " 6   CrossTraining  13 non-null     object \n",
            " 7   Wall21         87 non-null     object \n",
            " 8   MarathonTime   87 non-null     float64\n",
            " 9   CATEGORY       87 non-null     object \n",
            "dtypes: float64(3), int64(1), object(6)\n",
            "memory usage: 6.9+ KB\n"
          ]
        }
      ],
      "source": [
        "data.info()"
      ]
    },
    {
      "cell_type": "markdown",
      "id": "0885a416-5d08-4988-957f-f72ad2ac9da7",
      "metadata": {
        "id": "0885a416-5d08-4988-957f-f72ad2ac9da7"
      },
      "source": [
        "Como podemos ver en el codigo anterior nos percatamos que existen datos null o faltantes, ademas existen columnas númericas que estan como categoricas\n",
        "Primero trabajaremos las columnas que contienen datos null o faltantes mediante la función \"isnull\""
      ]
    },
    {
      "cell_type": "markdown",
      "id": "5c78ff3d-6e48-4277-8bab-da182c3c45e9",
      "metadata": {
        "id": "5c78ff3d-6e48-4277-8bab-da182c3c45e9"
      },
      "source": [
        "Uso del metodo describe para tener la información estadistica del data frame en sus columnas numericas"
      ]
    },
    {
      "cell_type": "code",
      "execution_count": null,
      "id": "e3e843f9-2e47-48dc-85f4-0eaa4fdefe14",
      "metadata": {
        "id": "e3e843f9-2e47-48dc-85f4-0eaa4fdefe14",
        "outputId": "22a8d05b-fd44-4f22-f6f2-8cbd90347489"
      },
      "outputs": [
        {
          "data": {
            "text/html": [
              "<div>\n",
              "<style scoped>\n",
              "    .dataframe tbody tr th:only-of-type {\n",
              "        vertical-align: middle;\n",
              "    }\n",
              "\n",
              "    .dataframe tbody tr th {\n",
              "        vertical-align: top;\n",
              "    }\n",
              "\n",
              "    .dataframe thead th {\n",
              "        text-align: right;\n",
              "    }\n",
              "</style>\n",
              "<table border=\"1\" class=\"dataframe\">\n",
              "  <thead>\n",
              "    <tr style=\"text-align: right;\">\n",
              "      <th></th>\n",
              "      <th>id</th>\n",
              "      <th>km4week</th>\n",
              "      <th>sp4week</th>\n",
              "      <th>MarathonTime</th>\n",
              "    </tr>\n",
              "  </thead>\n",
              "  <tbody>\n",
              "    <tr>\n",
              "      <th>count</th>\n",
              "      <td>87.000000</td>\n",
              "      <td>87.000000</td>\n",
              "      <td>87.000000</td>\n",
              "      <td>87.000000</td>\n",
              "    </tr>\n",
              "    <tr>\n",
              "      <th>mean</th>\n",
              "      <td>44.000000</td>\n",
              "      <td>62.347126</td>\n",
              "      <td>139.840706</td>\n",
              "      <td>3.319080</td>\n",
              "    </tr>\n",
              "    <tr>\n",
              "      <th>std</th>\n",
              "      <td>25.258662</td>\n",
              "      <td>26.956019</td>\n",
              "      <td>1191.427864</td>\n",
              "      <td>0.376923</td>\n",
              "    </tr>\n",
              "    <tr>\n",
              "      <th>min</th>\n",
              "      <td>1.000000</td>\n",
              "      <td>17.900000</td>\n",
              "      <td>8.031414</td>\n",
              "      <td>2.370000</td>\n",
              "    </tr>\n",
              "    <tr>\n",
              "      <th>25%</th>\n",
              "      <td>22.500000</td>\n",
              "      <td>44.200000</td>\n",
              "      <td>11.498168</td>\n",
              "      <td>3.045000</td>\n",
              "    </tr>\n",
              "    <tr>\n",
              "      <th>50%</th>\n",
              "      <td>44.000000</td>\n",
              "      <td>58.800000</td>\n",
              "      <td>12.163424</td>\n",
              "      <td>3.320000</td>\n",
              "    </tr>\n",
              "    <tr>\n",
              "      <th>75%</th>\n",
              "      <td>65.500000</td>\n",
              "      <td>77.500000</td>\n",
              "      <td>12.854036</td>\n",
              "      <td>3.605000</td>\n",
              "    </tr>\n",
              "    <tr>\n",
              "      <th>max</th>\n",
              "      <td>87.000000</td>\n",
              "      <td>137.500000</td>\n",
              "      <td>11125.000000</td>\n",
              "      <td>3.980000</td>\n",
              "    </tr>\n",
              "  </tbody>\n",
              "</table>\n",
              "</div>"
            ],
            "text/plain": [
              "              id     km4week       sp4week  MarathonTime\n",
              "count  87.000000   87.000000     87.000000     87.000000\n",
              "mean   44.000000   62.347126    139.840706      3.319080\n",
              "std    25.258662   26.956019   1191.427864      0.376923\n",
              "min     1.000000   17.900000      8.031414      2.370000\n",
              "25%    22.500000   44.200000     11.498168      3.045000\n",
              "50%    44.000000   58.800000     12.163424      3.320000\n",
              "75%    65.500000   77.500000     12.854036      3.605000\n",
              "max    87.000000  137.500000  11125.000000      3.980000"
            ]
          },
          "execution_count": 470,
          "metadata": {},
          "output_type": "execute_result"
        }
      ],
      "source": [
        "data.describe()"
      ]
    },
    {
      "cell_type": "code",
      "execution_count": null,
      "id": "3d8be98b-6208-4e50-b5d8-65fe05e18ada",
      "metadata": {
        "id": "3d8be98b-6208-4e50-b5d8-65fe05e18ada",
        "outputId": "896dbfad-99c2-4e0a-ab3d-50ec2f5daed2"
      },
      "outputs": [
        {
          "data": {
            "text/plain": [
              "id                0\n",
              "Marathon          0\n",
              "Name              0\n",
              "Category          6\n",
              "km4week           0\n",
              "sp4week           0\n",
              "CrossTraining    74\n",
              "Wall21            0\n",
              "MarathonTime      0\n",
              "CATEGORY          0\n",
              "dtype: int64"
            ]
          },
          "execution_count": 471,
          "metadata": {},
          "output_type": "execute_result"
        }
      ],
      "source": [
        "data.isnull().sum()"
      ]
    },
    {
      "cell_type": "markdown",
      "id": "9693a45e-5c08-4e88-b314-b0d8f632a78f",
      "metadata": {
        "id": "9693a45e-5c08-4e88-b314-b0d8f632a78f"
      },
      "source": [
        "El resultado nos muestra que las columnas Category y CrossTraining tienen datos faltantes, ambas son columnas categoricas, para Category reemplazamos con la moda y para CrossTraining reemplazamos el valor por un 0 directamente"
      ]
    },
    {
      "cell_type": "code",
      "execution_count": null,
      "id": "eb249e6b-5870-4bad-9330-a3a06289ee99",
      "metadata": {
        "id": "eb249e6b-5870-4bad-9330-a3a06289ee99",
        "outputId": "9eba02fc-ce3d-44a3-f3a5-63d6810cff4e"
      },
      "outputs": [
        {
          "name": "stdout",
          "output_type": "stream",
          "text": [
            "\n",
            "DataFrame después de reemplazar valores nulos con la moda para Category y con 0 para CrossTraining:\n",
            "<class 'pandas.core.frame.DataFrame'>\n",
            "RangeIndex: 87 entries, 0 to 86\n",
            "Data columns (total 10 columns):\n",
            " #   Column         Non-Null Count  Dtype  \n",
            "---  ------         --------------  -----  \n",
            " 0   id             87 non-null     int64  \n",
            " 1   Marathon       87 non-null     object \n",
            " 2   Name           87 non-null     object \n",
            " 3   Category       87 non-null     object \n",
            " 4   km4week        87 non-null     float64\n",
            " 5   sp4week        87 non-null     float64\n",
            " 6   CrossTraining  87 non-null     object \n",
            " 7   Wall21         87 non-null     object \n",
            " 8   MarathonTime   87 non-null     float64\n",
            " 9   CATEGORY       87 non-null     object \n",
            "dtypes: float64(3), int64(1), object(6)\n",
            "memory usage: 6.9+ KB\n"
          ]
        }
      ],
      "source": [
        "# Reemplazar los valores nulos con la moda de la columna\n",
        "moda = data['Category'].mode()[0]  # La moda es el valor más frecuente\n",
        "data['Category'].fillna(moda, inplace=True)\n",
        "\n",
        "# Reemplazar los valores nulos con 0\n",
        "data['CrossTraining'].fillna(0, inplace=True)\n",
        "\n",
        "# Mostrar el DataFrame después de reemplazar los valores nulos\n",
        "print(\"\\nDataFrame después de reemplazar valores nulos con la moda para Category y con 0 para CrossTraining:\")\n",
        "data.info()"
      ]
    },
    {
      "cell_type": "markdown",
      "id": "98972d91-521a-4997-9fb8-dbf5c1ceb672",
      "metadata": {
        "id": "98972d91-521a-4997-9fb8-dbf5c1ceb672"
      },
      "source": [
        "Recordemos que \"Wall21\" es una columna númerica, pero el info nos indica que esta como categorica, por lo que hay que hacer la conversión a númerica, para lo cual usamos el metodo to_numeric, antes y despues de la conversión revisamos el tipo de dato de la columna para cofirmar los cambios."
      ]
    },
    {
      "cell_type": "code",
      "execution_count": null,
      "id": "9f66f604-a112-4f59-844c-807bd2729dab",
      "metadata": {
        "id": "9f66f604-a112-4f59-844c-807bd2729dab",
        "outputId": "9668ca94-7aec-4ebf-f779-2a66e1cc3ed0"
      },
      "outputs": [
        {
          "name": "stdout",
          "output_type": "stream",
          "text": [
            "Tipo de datos antes de la conversión:\n",
            "object\n",
            "\n",
            "Tipo de datos después de la conversión:\n",
            "float64\n"
          ]
        }
      ],
      "source": [
        "# Verifica el tipo de datos de la columna 'Wall21'\n",
        "print(\"Tipo de datos antes de la conversión:\")\n",
        "print(data['Wall21'].dtype)\n",
        "\n",
        "# Convertir la columna 'Wall21' a tipo numérico (float)\n",
        "data['Wall21'] = pd.to_numeric(data['Wall21'], errors='coerce')\n",
        "\n",
        "# Verifica el tipo de datos después de la conversión\n",
        "print(\"\\nTipo de datos después de la conversión:\")\n",
        "print(data['Wall21'].dtype)"
      ]
    },
    {
      "cell_type": "markdown",
      "id": "43dabd8e-ce71-4c40-89bd-c0b3b386f395",
      "metadata": {
        "id": "43dabd8e-ce71-4c40-89bd-c0b3b386f395"
      },
      "source": [
        "Nuevamente usamos el metodo info para verificar todos los cambios ya realizados"
      ]
    },
    {
      "cell_type": "code",
      "execution_count": null,
      "id": "fb1d8269-965b-4b33-938d-f5b3adce6945",
      "metadata": {
        "id": "fb1d8269-965b-4b33-938d-f5b3adce6945",
        "outputId": "6b3b37da-a8a5-43b6-eeae-15106ee66922"
      },
      "outputs": [
        {
          "name": "stdout",
          "output_type": "stream",
          "text": [
            "<class 'pandas.core.frame.DataFrame'>\n",
            "RangeIndex: 87 entries, 0 to 86\n",
            "Data columns (total 10 columns):\n",
            " #   Column         Non-Null Count  Dtype  \n",
            "---  ------         --------------  -----  \n",
            " 0   id             87 non-null     int64  \n",
            " 1   Marathon       87 non-null     object \n",
            " 2   Name           87 non-null     object \n",
            " 3   Category       87 non-null     object \n",
            " 4   km4week        87 non-null     float64\n",
            " 5   sp4week        87 non-null     float64\n",
            " 6   CrossTraining  87 non-null     object \n",
            " 7   Wall21         81 non-null     float64\n",
            " 8   MarathonTime   87 non-null     float64\n",
            " 9   CATEGORY       87 non-null     object \n",
            "dtypes: float64(4), int64(1), object(5)\n",
            "memory usage: 6.9+ KB\n"
          ]
        }
      ],
      "source": [
        "data.info()"
      ]
    },
    {
      "cell_type": "markdown",
      "id": "30429afb-b772-498c-a067-00aa74b41b14",
      "metadata": {
        "id": "30429afb-b772-498c-a067-00aa74b41b14"
      },
      "source": [
        "Me percato que al realizar la conversión de categorica a numerica \"Wall21\" tiene datos faltantes, por lo que procedo a revisar dicha columna en rango de 10 filas para poder visualizar los NaN"
      ]
    },
    {
      "cell_type": "code",
      "execution_count": null,
      "id": "edaee916-cf5e-47f1-bb9e-5fa34fd0d089",
      "metadata": {
        "id": "edaee916-cf5e-47f1-bb9e-5fa34fd0d089",
        "outputId": "a91e7489-f737-42e5-ffa7-68254c9a9582"
      },
      "outputs": [
        {
          "name": "stdout",
          "output_type": "stream",
          "text": [
            "0    1.16\n",
            "1    1.23\n",
            "2    1.30\n",
            "3    1.32\n",
            "4    1.36\n",
            "5    1.32\n",
            "6    1.38\n",
            "7    1.41\n",
            "8    1.38\n",
            "9    1.35\n",
            "Name: Wall21, dtype: float64\n",
            "\n",
            "10    1.42\n",
            "11    1.40\n",
            "12    1.37\n",
            "13    1.41\n",
            "14    1.44\n",
            "15    1.45\n",
            "16    1.44\n",
            "17    1.44\n",
            "18    1.45\n",
            "19    1.41\n",
            "Name: Wall21, dtype: float64\n",
            "\n",
            "20    1.45\n",
            "21    1.50\n",
            "22    1.50\n",
            "23    1.48\n",
            "24    1.52\n",
            "25     NaN\n",
            "26    1.54\n",
            "27    1.52\n",
            "28    1.50\n",
            "29    1.57\n",
            "Name: Wall21, dtype: float64\n",
            "\n",
            "30    1.62\n",
            "31    1.60\n",
            "32    1.51\n",
            "33    1.58\n",
            "34     NaN\n",
            "35    1.62\n",
            "36    1.56\n",
            "37    1.61\n",
            "38    1.50\n",
            "39    1.60\n",
            "Name: Wall21, dtype: float64\n",
            "\n",
            "40    1.59\n",
            "41    1.68\n",
            "42    1.78\n",
            "43    1.62\n",
            "44    1.67\n",
            "45    1.67\n",
            "46    1.66\n",
            "47    1.67\n",
            "48    1.55\n",
            "49    1.64\n",
            "Name: Wall21, dtype: float64\n",
            "\n",
            "50    1.67\n",
            "51     NaN\n",
            "52    1.65\n",
            "53     NaN\n",
            "54    1.77\n",
            "55    1.67\n",
            "56    1.71\n",
            "57    1.72\n",
            "58    1.67\n",
            "59    1.77\n",
            "Name: Wall21, dtype: float64\n",
            "\n",
            "60    1.76\n",
            "61    1.63\n",
            "62    1.66\n",
            "63    1.69\n",
            "64    1.69\n",
            "65    1.88\n",
            "66    1.93\n",
            "67    1.74\n",
            "68    1.75\n",
            "69    1.80\n",
            "Name: Wall21, dtype: float64\n",
            "\n",
            "70    1.81\n",
            "71    1.76\n",
            "72    1.94\n",
            "73     NaN\n",
            "74    1.90\n",
            "75    1.85\n",
            "76    1.94\n",
            "77    1.97\n",
            "78    1.97\n",
            "79    1.98\n",
            "Name: Wall21, dtype: float64\n",
            "\n",
            "80     NaN\n",
            "81    2.05\n",
            "82    2.02\n",
            "83    1.94\n",
            "84    1.94\n",
            "85    2.05\n",
            "86    2.05\n",
            "Name: Wall21, dtype: float64\n",
            "\n"
          ]
        }
      ],
      "source": [
        "# Mostrar la columna Wall21 en rangos de 10 filas\n",
        "for i in range(0, len(data['Wall21']), 10):\n",
        "    print(data['Wall21'][i:i+10])\n",
        "    print()  # Imprimir una línea en blanco para separar los bloques"
      ]
    },
    {
      "cell_type": "markdown",
      "id": "988bcff0-41b3-4d0f-b646-4a73f928a7a4",
      "metadata": {
        "id": "988bcff0-41b3-4d0f-b646-4a73f928a7a4"
      },
      "source": [
        "Con esto confirmo que la columna Wall21 siempre tubo valores NaN, que no se visualizaron anteriormente ya que estaba definida como categorica y al transformarla a numerica recien se pudieron observar, para lo cual voy a realizar la imputación con el metodo KNN Imputer con los 3 vecinos cercanos."
      ]
    },
    {
      "cell_type": "code",
      "execution_count": null,
      "id": "e5b6b294-1ee0-4a25-bb9e-48b0008c326f",
      "metadata": {
        "id": "e5b6b294-1ee0-4a25-bb9e-48b0008c326f",
        "outputId": "73074262-89f2-4194-a00c-5f49a447f76c"
      },
      "outputs": [
        {
          "name": "stdout",
          "output_type": "stream",
          "text": [
            "Cantidad de valores nulos en la columna Wall21: 6\n"
          ]
        }
      ],
      "source": [
        "# Contar la cantidad de valores nulos en la columna Wall21\n",
        "nulos_wall21 = data['Wall21'].isnull().sum()\n",
        "\n",
        "# Mostrar la cantidad de valores nulos\n",
        "print(f\"Cantidad de valores nulos en la columna Wall21: {nulos_wall21}\")"
      ]
    },
    {
      "cell_type": "markdown",
      "id": "0a786b68-95cc-40a1-8261-53561bb8313e",
      "metadata": {
        "id": "0a786b68-95cc-40a1-8261-53561bb8313e"
      },
      "source": [
        "Imputación con el metodo KNN vecinos en relación de los 5 más cercanos y la imputación será con la moda"
      ]
    },
    {
      "cell_type": "code",
      "execution_count": null,
      "id": "d32f2279-7549-461d-a595-bc47e532e84c",
      "metadata": {
        "id": "d32f2279-7549-461d-a595-bc47e532e84c",
        "outputId": "75b0a774-8960-4774-a944-10e7b2b5d5a5"
      },
      "outputs": [
        {
          "name": "stdout",
          "output_type": "stream",
          "text": [
            "Cantidad de valores nulos en la columna Wall21 antes de imputación: 6\n",
            "Cantidad de valores nulos en la columna Wall21 después de imputación: 0\n",
            "\n",
            "Valores de la columna Wall21 después de la imputación con KNN:\n",
            "0    1.16\n",
            "1    1.23\n",
            "2    1.30\n",
            "3    1.32\n",
            "4    1.36\n",
            "5    1.32\n",
            "6    1.38\n",
            "7    1.41\n",
            "8    1.38\n",
            "9    1.35\n",
            "Name: Wall21, dtype: float64\n"
          ]
        }
      ],
      "source": [
        "import pandas as pd\n",
        "from sklearn.impute import KNNImputer\n",
        "\n",
        "# Verificar la cantidad de valores nulos antes de la imputación\n",
        "print(f\"Cantidad de valores nulos en la columna Wall21 antes de imputación: {data['Wall21'].isnull().sum()}\")\n",
        "\n",
        "# Crear un imputador KNN (utilizando k=5 vecinos, que es el valor predeterminado)\n",
        "imputer = KNNImputer(n_neighbors=5)\n",
        "\n",
        "# Aplicar el imputador solo a la columna 'Wall21'\n",
        "data[['Wall21']] = imputer.fit_transform(data[['Wall21']])\n",
        "\n",
        "# Verificar la cantidad de valores nulos después de la imputación\n",
        "print(f\"Cantidad de valores nulos en la columna Wall21 después de imputación: {data['Wall21'].isnull().sum()}\")\n",
        "\n",
        "# Mostrar los primeros valores imputados\n",
        "print(\"\\nValores de la columna Wall21 después de la imputación con KNN:\")\n",
        "print(data['Wall21'].head(10))\n"
      ]
    },
    {
      "cell_type": "markdown",
      "id": "ecf3ea9e-fc8f-40aa-bc34-1b73803c8b92",
      "metadata": {
        "id": "ecf3ea9e-fc8f-40aa-bc34-1b73803c8b92"
      },
      "source": [
        "Verifico realmente si Wall21 ya no tiene valores NaN"
      ]
    },
    {
      "cell_type": "code",
      "execution_count": null,
      "id": "cdf991fb-5a4b-48b2-8a32-42b9f690dc4a",
      "metadata": {
        "id": "cdf991fb-5a4b-48b2-8a32-42b9f690dc4a",
        "outputId": "e822e362-e428-46b5-bfb0-1a4c51c8d2cd"
      },
      "outputs": [
        {
          "name": "stdout",
          "output_type": "stream",
          "text": [
            "Cantidad de valores nulos en la columna Wall21: 0\n"
          ]
        }
      ],
      "source": [
        "# Contar la cantidad de valores nulos en la columna Wall21\n",
        "nulos_wall21 = data['Wall21'].isnull().sum()\n",
        "\n",
        "# Mostrar la cantidad de valores nulos\n",
        "print(f\"Cantidad de valores nulos en la columna Wall21: {nulos_wall21}\")"
      ]
    },
    {
      "cell_type": "code",
      "execution_count": null,
      "id": "2d77a1f6-2d7e-4ab2-9ea1-da3bf81dac5f",
      "metadata": {
        "id": "2d77a1f6-2d7e-4ab2-9ea1-da3bf81dac5f",
        "outputId": "2b7bb893-2ac7-4c69-a0b4-e81e9142cc25"
      },
      "outputs": [
        {
          "data": {
            "text/html": [
              "<div>\n",
              "<style scoped>\n",
              "    .dataframe tbody tr th:only-of-type {\n",
              "        vertical-align: middle;\n",
              "    }\n",
              "\n",
              "    .dataframe tbody tr th {\n",
              "        vertical-align: top;\n",
              "    }\n",
              "\n",
              "    .dataframe thead th {\n",
              "        text-align: right;\n",
              "    }\n",
              "</style>\n",
              "<table border=\"1\" class=\"dataframe\">\n",
              "  <thead>\n",
              "    <tr style=\"text-align: right;\">\n",
              "      <th></th>\n",
              "      <th>id</th>\n",
              "      <th>Marathon</th>\n",
              "      <th>Name</th>\n",
              "      <th>Category</th>\n",
              "      <th>km4week</th>\n",
              "      <th>sp4week</th>\n",
              "      <th>CrossTraining</th>\n",
              "      <th>Wall21</th>\n",
              "      <th>MarathonTime</th>\n",
              "      <th>CATEGORY</th>\n",
              "    </tr>\n",
              "  </thead>\n",
              "  <tbody>\n",
              "    <tr>\n",
              "      <th>0</th>\n",
              "      <td>1</td>\n",
              "      <td>Prague17</td>\n",
              "      <td>Blair MORGAN</td>\n",
              "      <td>MAM</td>\n",
              "      <td>132.8</td>\n",
              "      <td>14.434783</td>\n",
              "      <td>0</td>\n",
              "      <td>1.16</td>\n",
              "      <td>2.37</td>\n",
              "      <td>A</td>\n",
              "    </tr>\n",
              "    <tr>\n",
              "      <th>1</th>\n",
              "      <td>2</td>\n",
              "      <td>Prague17</td>\n",
              "      <td>Robert Heczko</td>\n",
              "      <td>MAM</td>\n",
              "      <td>68.6</td>\n",
              "      <td>13.674419</td>\n",
              "      <td>0</td>\n",
              "      <td>1.23</td>\n",
              "      <td>2.59</td>\n",
              "      <td>A</td>\n",
              "    </tr>\n",
              "    <tr>\n",
              "      <th>2</th>\n",
              "      <td>3</td>\n",
              "      <td>Prague17</td>\n",
              "      <td>Michon Jerome</td>\n",
              "      <td>MAM</td>\n",
              "      <td>82.7</td>\n",
              "      <td>13.520436</td>\n",
              "      <td>0</td>\n",
              "      <td>1.30</td>\n",
              "      <td>2.66</td>\n",
              "      <td>A</td>\n",
              "    </tr>\n",
              "    <tr>\n",
              "      <th>3</th>\n",
              "      <td>4</td>\n",
              "      <td>Prague17</td>\n",
              "      <td>Daniel Or lek</td>\n",
              "      <td>M45</td>\n",
              "      <td>137.5</td>\n",
              "      <td>12.258544</td>\n",
              "      <td>0</td>\n",
              "      <td>1.32</td>\n",
              "      <td>2.68</td>\n",
              "      <td>A</td>\n",
              "    </tr>\n",
              "    <tr>\n",
              "      <th>4</th>\n",
              "      <td>5</td>\n",
              "      <td>Prague17</td>\n",
              "      <td>Luk ? Mr zek</td>\n",
              "      <td>MAM</td>\n",
              "      <td>84.6</td>\n",
              "      <td>13.945055</td>\n",
              "      <td>0</td>\n",
              "      <td>1.36</td>\n",
              "      <td>2.74</td>\n",
              "      <td>A</td>\n",
              "    </tr>\n",
              "    <tr>\n",
              "      <th>5</th>\n",
              "      <td>6</td>\n",
              "      <td>Prague17</td>\n",
              "      <td>David Pecina</td>\n",
              "      <td>M40</td>\n",
              "      <td>42.2</td>\n",
              "      <td>13.612903</td>\n",
              "      <td>0</td>\n",
              "      <td>1.32</td>\n",
              "      <td>2.78</td>\n",
              "      <td>A</td>\n",
              "    </tr>\n",
              "    <tr>\n",
              "      <th>6</th>\n",
              "      <td>7</td>\n",
              "      <td>Prague17</td>\n",
              "      <td>Tomas Drabek</td>\n",
              "      <td>M40</td>\n",
              "      <td>89.0</td>\n",
              "      <td>12.594340</td>\n",
              "      <td>0</td>\n",
              "      <td>1.38</td>\n",
              "      <td>2.81</td>\n",
              "      <td>A</td>\n",
              "    </tr>\n",
              "    <tr>\n",
              "      <th>7</th>\n",
              "      <td>8</td>\n",
              "      <td>Prague17</td>\n",
              "      <td>Jan Rada</td>\n",
              "      <td>M45</td>\n",
              "      <td>106.0</td>\n",
              "      <td>12.694611</td>\n",
              "      <td>0</td>\n",
              "      <td>1.41</td>\n",
              "      <td>2.84</td>\n",
              "      <td>A</td>\n",
              "    </tr>\n",
              "    <tr>\n",
              "      <th>8</th>\n",
              "      <td>9</td>\n",
              "      <td>Prague17</td>\n",
              "      <td>Tomas Drabek</td>\n",
              "      <td>MAM</td>\n",
              "      <td>70.0</td>\n",
              "      <td>13.770492</td>\n",
              "      <td>ciclista 1h</td>\n",
              "      <td>1.38</td>\n",
              "      <td>2.83</td>\n",
              "      <td>A</td>\n",
              "    </tr>\n",
              "    <tr>\n",
              "      <th>9</th>\n",
              "      <td>10</td>\n",
              "      <td>Prague17</td>\n",
              "      <td>martin ?indel ?</td>\n",
              "      <td>M45</td>\n",
              "      <td>84.2</td>\n",
              "      <td>13.365079</td>\n",
              "      <td>0</td>\n",
              "      <td>1.35</td>\n",
              "      <td>2.86</td>\n",
              "      <td>A</td>\n",
              "    </tr>\n",
              "  </tbody>\n",
              "</table>\n",
              "</div>"
            ],
            "text/plain": [
              "   id  Marathon             Name Category  km4week    sp4week CrossTraining  \\\n",
              "0   1  Prague17     Blair MORGAN      MAM    132.8  14.434783             0   \n",
              "1   2  Prague17    Robert Heczko      MAM     68.6  13.674419             0   \n",
              "2   3  Prague17    Michon Jerome      MAM     82.7  13.520436             0   \n",
              "3   4  Prague17    Daniel Or lek      M45    137.5  12.258544             0   \n",
              "4   5  Prague17     Luk ? Mr zek      MAM     84.6  13.945055             0   \n",
              "5   6  Prague17     David Pecina      M40     42.2  13.612903             0   \n",
              "6   7  Prague17     Tomas Drabek      M40     89.0  12.594340             0   \n",
              "7   8  Prague17         Jan Rada      M45    106.0  12.694611             0   \n",
              "8   9  Prague17     Tomas Drabek      MAM     70.0  13.770492   ciclista 1h   \n",
              "9  10  Prague17  martin ?indel ?      M45     84.2  13.365079             0   \n",
              "\n",
              "   Wall21  MarathonTime CATEGORY  \n",
              "0    1.16          2.37        A  \n",
              "1    1.23          2.59        A  \n",
              "2    1.30          2.66        A  \n",
              "3    1.32          2.68        A  \n",
              "4    1.36          2.74        A  \n",
              "5    1.32          2.78        A  \n",
              "6    1.38          2.81        A  \n",
              "7    1.41          2.84        A  \n",
              "8    1.38          2.83        A  \n",
              "9    1.35          2.86        A  "
            ]
          },
          "execution_count": 479,
          "metadata": {},
          "output_type": "execute_result"
        }
      ],
      "source": [
        "data.head(10)"
      ]
    },
    {
      "cell_type": "markdown",
      "id": "953cb4e4-a804-4bdf-a1df-aba9c06ddad4",
      "metadata": {
        "id": "953cb4e4-a804-4bdf-a1df-aba9c06ddad4"
      },
      "source": [
        "Uso del metodo describe para tener la información estadistica del data frame en sus columnas numericas"
      ]
    },
    {
      "cell_type": "code",
      "execution_count": null,
      "id": "837946e3-4114-42bf-bc88-31573071c908",
      "metadata": {
        "id": "837946e3-4114-42bf-bc88-31573071c908",
        "outputId": "2f316d32-1715-4f55-d1a0-b418b932ebae"
      },
      "outputs": [
        {
          "data": {
            "text/html": [
              "<div>\n",
              "<style scoped>\n",
              "    .dataframe tbody tr th:only-of-type {\n",
              "        vertical-align: middle;\n",
              "    }\n",
              "\n",
              "    .dataframe tbody tr th {\n",
              "        vertical-align: top;\n",
              "    }\n",
              "\n",
              "    .dataframe thead th {\n",
              "        text-align: right;\n",
              "    }\n",
              "</style>\n",
              "<table border=\"1\" class=\"dataframe\">\n",
              "  <thead>\n",
              "    <tr style=\"text-align: right;\">\n",
              "      <th></th>\n",
              "      <th>id</th>\n",
              "      <th>km4week</th>\n",
              "      <th>sp4week</th>\n",
              "      <th>Wall21</th>\n",
              "      <th>MarathonTime</th>\n",
              "    </tr>\n",
              "  </thead>\n",
              "  <tbody>\n",
              "    <tr>\n",
              "      <th>count</th>\n",
              "      <td>87.000000</td>\n",
              "      <td>87.000000</td>\n",
              "      <td>87.000000</td>\n",
              "      <td>87.000000</td>\n",
              "      <td>87.000000</td>\n",
              "    </tr>\n",
              "    <tr>\n",
              "      <th>mean</th>\n",
              "      <td>44.000000</td>\n",
              "      <td>62.347126</td>\n",
              "      <td>139.840706</td>\n",
              "      <td>1.630617</td>\n",
              "      <td>3.319080</td>\n",
              "    </tr>\n",
              "    <tr>\n",
              "      <th>std</th>\n",
              "      <td>25.258662</td>\n",
              "      <td>26.956019</td>\n",
              "      <td>1191.427864</td>\n",
              "      <td>0.203014</td>\n",
              "      <td>0.376923</td>\n",
              "    </tr>\n",
              "    <tr>\n",
              "      <th>min</th>\n",
              "      <td>1.000000</td>\n",
              "      <td>17.900000</td>\n",
              "      <td>8.031414</td>\n",
              "      <td>1.160000</td>\n",
              "      <td>2.370000</td>\n",
              "    </tr>\n",
              "    <tr>\n",
              "      <th>25%</th>\n",
              "      <td>22.500000</td>\n",
              "      <td>44.200000</td>\n",
              "      <td>11.498168</td>\n",
              "      <td>1.490000</td>\n",
              "      <td>3.045000</td>\n",
              "    </tr>\n",
              "    <tr>\n",
              "      <th>50%</th>\n",
              "      <td>44.000000</td>\n",
              "      <td>58.800000</td>\n",
              "      <td>12.163424</td>\n",
              "      <td>1.630617</td>\n",
              "      <td>3.320000</td>\n",
              "    </tr>\n",
              "    <tr>\n",
              "      <th>75%</th>\n",
              "      <td>65.500000</td>\n",
              "      <td>77.500000</td>\n",
              "      <td>12.854036</td>\n",
              "      <td>1.755000</td>\n",
              "      <td>3.605000</td>\n",
              "    </tr>\n",
              "    <tr>\n",
              "      <th>max</th>\n",
              "      <td>87.000000</td>\n",
              "      <td>137.500000</td>\n",
              "      <td>11125.000000</td>\n",
              "      <td>2.050000</td>\n",
              "      <td>3.980000</td>\n",
              "    </tr>\n",
              "  </tbody>\n",
              "</table>\n",
              "</div>"
            ],
            "text/plain": [
              "              id     km4week       sp4week     Wall21  MarathonTime\n",
              "count  87.000000   87.000000     87.000000  87.000000     87.000000\n",
              "mean   44.000000   62.347126    139.840706   1.630617      3.319080\n",
              "std    25.258662   26.956019   1191.427864   0.203014      0.376923\n",
              "min     1.000000   17.900000      8.031414   1.160000      2.370000\n",
              "25%    22.500000   44.200000     11.498168   1.490000      3.045000\n",
              "50%    44.000000   58.800000     12.163424   1.630617      3.320000\n",
              "75%    65.500000   77.500000     12.854036   1.755000      3.605000\n",
              "max    87.000000  137.500000  11125.000000   2.050000      3.980000"
            ]
          },
          "execution_count": 480,
          "metadata": {},
          "output_type": "execute_result"
        }
      ],
      "source": [
        "data.describe()"
      ]
    },
    {
      "cell_type": "markdown",
      "id": "bce88168-8e6f-4328-aaa4-fd01aa8ed118",
      "metadata": {
        "id": "bce88168-8e6f-4328-aaa4-fd01aa8ed118"
      },
      "source": [
        "Genero histograma para ver la distribución de los datos ya que sera de utilidad al momento de definir las columnas para el modelo"
      ]
    },
    {
      "cell_type": "code",
      "execution_count": null,
      "id": "b66b1e7f-838f-44dc-a097-b6cf791b6b82",
      "metadata": {
        "id": "b66b1e7f-838f-44dc-a097-b6cf791b6b82",
        "outputId": "e7dbfe91-b793-4739-ff24-de2390bddc63"
      },
      "outputs": [
        {
          "data": {
            "image/png": "[encoded data removed]",
            "text/plain": [
              "<Figure size 1000x800 with 9 Axes>"
            ]
          },
          "metadata": {},
          "output_type": "display_data"
        }
      ],
      "source": [
        "import matplotlib.pyplot as plt\n",
        "\n",
        "# Ajustar el tamaño de la figura y el layout de los histogramas\n",
        "data.hist(figsize=(10, 8), layout=(3, 3))  # Cambia el layout según el número de columnas\n",
        "\n",
        "# Mostrar los histogramas\n",
        "plt.tight_layout()  # Evitar que los gráficos se superpongan\n",
        "plt.show()\n"
      ]
    },
    {
      "cell_type": "markdown",
      "id": "8a278a4c-b4fd-42b0-bb11-94ba0584a100",
      "metadata": {
        "id": "8a278a4c-b4fd-42b0-bb11-94ba0584a100"
      },
      "source": [
        "Realizo el cambio de valores para las columnas Category y CrossTraining a valores numericos"
      ]
    },
    {
      "cell_type": "markdown",
      "id": "caf7a107-5c44-4c3d-8ffd-3df9d28f2611",
      "metadata": {
        "id": "caf7a107-5c44-4c3d-8ffd-3df9d28f2611"
      },
      "source": [
        "Primero reviso los valores unicos de Category para ver a que valores reemplazar"
      ]
    },
    {
      "cell_type": "code",
      "execution_count": null,
      "id": "3f9488a0-25f6-4497-8345-3d42e6505525",
      "metadata": {
        "id": "3f9488a0-25f6-4497-8345-3d42e6505525",
        "outputId": "ef317cc3-a5bc-414d-dbbf-c2a6589f927a"
      },
      "outputs": [
        {
          "name": "stdout",
          "output_type": "stream",
          "text": [
            "Valores únicos en la columna 'Category':\n",
            "['MAM' 'M45' 'M40' 'M50' 'M55' 'WAM']\n"
          ]
        }
      ],
      "source": [
        "# Obtener los valores únicos de la columna 'Category'\n",
        "valores_unicos = data['Category'].unique()\n",
        "\n",
        "# Mostrar los valores únicos\n",
        "print(\"Valores únicos en la columna 'Category':\")\n",
        "print(valores_unicos)"
      ]
    },
    {
      "cell_type": "markdown",
      "id": "db6189bd-09d3-41a6-b36a-fe8a14a89ecd",
      "metadata": {
        "id": "db6189bd-09d3-41a6-b36a-fe8a14a89ecd"
      },
      "source": [
        "Category tiene 6 valores unicos por lo que los reemplazo de forma correlativa del 1 al 6"
      ]
    },
    {
      "cell_type": "code",
      "execution_count": null,
      "id": "a9033e2a-183d-40eb-a61d-57b754d01c72",
      "metadata": {
        "id": "a9033e2a-183d-40eb-a61d-57b754d01c72",
        "outputId": "e2298e16-5dee-4d9f-dacf-e8a3793285ca"
      },
      "outputs": [
        {
          "name": "stdout",
          "output_type": "stream",
          "text": [
            "0    1\n",
            "1    1\n",
            "2    1\n",
            "3    2\n",
            "4    1\n",
            "5    3\n",
            "6    3\n",
            "7    2\n",
            "8    1\n",
            "9    2\n",
            "Name: Category, dtype: int64\n"
          ]
        }
      ],
      "source": [
        "valores_Category = {'Category' : { 'MAM': 1 , 'M45': 2 , 'M40': 3 , 'M50': 4 , 'M55': 5 , 'WAM': 6  }}\n",
        "data.replace( valores_Category, inplace = True )\n",
        "print(data['Category'].head(10))"
      ]
    },
    {
      "cell_type": "markdown",
      "id": "465e0241-9f5f-4672-8517-9aa0fcddf9a5",
      "metadata": {
        "id": "465e0241-9f5f-4672-8517-9aa0fcddf9a5"
      },
      "source": [
        "Confirmo que se hallan realizado los cambios"
      ]
    },
    {
      "cell_type": "code",
      "execution_count": null,
      "id": "77797fa5-9ad0-4f15-a337-e456f8a2b42b",
      "metadata": {
        "id": "77797fa5-9ad0-4f15-a337-e456f8a2b42b",
        "outputId": "27ff5009-f121-4c19-f766-8e7b4d166b87"
      },
      "outputs": [
        {
          "name": "stdout",
          "output_type": "stream",
          "text": [
            "Valores únicos en la columna 'Category':\n",
            "[1 2 3 4 5 6]\n"
          ]
        }
      ],
      "source": [
        "# Obtener los valores únicos de la columna 'Category'\n",
        "valores_unicos = data['Category'].unique()\n",
        "\n",
        "# Mostrar los valores únicos\n",
        "print(\"Valores únicos en la columna 'Category':\")\n",
        "print(valores_unicos)"
      ]
    },
    {
      "cell_type": "markdown",
      "id": "db0280ee-607b-4c25-b715-459f15a24041",
      "metadata": {
        "id": "db0280ee-607b-4c25-b715-459f15a24041"
      },
      "source": [
        "Segundo reviso los valores unicos de CrossTraining para ver a que valores reemplazar"
      ]
    },
    {
      "cell_type": "code",
      "execution_count": null,
      "id": "353172d9-172b-4020-b28c-6dcaa847d984",
      "metadata": {
        "id": "353172d9-172b-4020-b28c-6dcaa847d984",
        "outputId": "8db098e4-76a7-44c7-a0a7-131e8d216899"
      },
      "outputs": [
        {
          "name": "stdout",
          "output_type": "stream",
          "text": [
            "Valores únicos en la columna 'CrossTraining':\n",
            "[0 'ciclista 1h' 'ciclista 4h' 'ciclista 13h' 'ciclista 5h' 'ciclista 3h']\n"
          ]
        }
      ],
      "source": [
        "# Obtener los valores únicos de la columna 'Category'\n",
        "valores_unicos = data['CrossTraining'].unique()\n",
        "\n",
        "# Mostrar los valores únicos\n",
        "print(\"Valores únicos en la columna 'CrossTraining':\")\n",
        "print(valores_unicos)"
      ]
    },
    {
      "cell_type": "markdown",
      "id": "8c197bc3-78a4-4cb7-9c5b-1e812824a6ad",
      "metadata": {
        "id": "8c197bc3-78a4-4cb7-9c5b-1e812824a6ad"
      },
      "source": [
        "CrossTraining tiene 5 valores unicos por lo que los reemplazo de forma correlativa del 1 al 5"
      ]
    },
    {
      "cell_type": "code",
      "execution_count": null,
      "id": "f7b8168b-37af-4f98-8e10-8f4236e38d63",
      "metadata": {
        "id": "f7b8168b-37af-4f98-8e10-8f4236e38d63",
        "outputId": "9e88017a-0441-413c-afa2-1a307c9f5124"
      },
      "outputs": [
        {
          "name": "stdout",
          "output_type": "stream",
          "text": [
            "0    0\n",
            "1    0\n",
            "2    0\n",
            "3    0\n",
            "4    0\n",
            "5    0\n",
            "6    0\n",
            "7    0\n",
            "8    1\n",
            "9    0\n",
            "Name: CrossTraining, dtype: int64\n"
          ]
        }
      ],
      "source": [
        "valores_CrossTraining = {'CrossTraining' : { 'ciclista 1h': 1 , 'ciclista 4h': 2 , 'ciclista 3h': 3 , 'ciclista 5h': 4 , 'ciclista 13h': 5 }}\n",
        "data.replace( valores_CrossTraining, inplace = True )\n",
        "print(data['CrossTraining'].head(10))"
      ]
    },
    {
      "cell_type": "markdown",
      "id": "f7919982-2bc5-4a2b-b788-909e30c97a52",
      "metadata": {
        "id": "f7919982-2bc5-4a2b-b788-909e30c97a52"
      },
      "source": [
        "Confirmo que se hallan realizado los cambios"
      ]
    },
    {
      "cell_type": "code",
      "execution_count": null,
      "id": "d1f42436-a8e0-4ac6-89bb-f09138adcec2",
      "metadata": {
        "id": "d1f42436-a8e0-4ac6-89bb-f09138adcec2",
        "outputId": "97c3aae5-cf59-45b9-d48e-e7c398ab7f37"
      },
      "outputs": [
        {
          "name": "stdout",
          "output_type": "stream",
          "text": [
            "Valores únicos en la columna 'CrossTraining':\n",
            "[0 1 2 5 4 3]\n"
          ]
        }
      ],
      "source": [
        "# Obtener los valores únicos de la columna 'Category'\n",
        "valores_unicos = data['CrossTraining'].unique()\n",
        "\n",
        "# Mostrar los valores únicos\n",
        "print(\"Valores únicos en la columna 'CrossTraining':\")\n",
        "print(valores_unicos)"
      ]
    },
    {
      "cell_type": "code",
      "execution_count": null,
      "id": "2bbac941-7502-4416-a1cf-dc466ff7e4c6",
      "metadata": {
        "id": "2bbac941-7502-4416-a1cf-dc466ff7e4c6",
        "outputId": "b412bbc8-e515-4509-c2ac-fd49aa4e861a"
      },
      "outputs": [
        {
          "data": {
            "text/html": [
              "<div>\n",
              "<style scoped>\n",
              "    .dataframe tbody tr th:only-of-type {\n",
              "        vertical-align: middle;\n",
              "    }\n",
              "\n",
              "    .dataframe tbody tr th {\n",
              "        vertical-align: top;\n",
              "    }\n",
              "\n",
              "    .dataframe thead th {\n",
              "        text-align: right;\n",
              "    }\n",
              "</style>\n",
              "<table border=\"1\" class=\"dataframe\">\n",
              "  <thead>\n",
              "    <tr style=\"text-align: right;\">\n",
              "      <th></th>\n",
              "      <th>id</th>\n",
              "      <th>Marathon</th>\n",
              "      <th>Name</th>\n",
              "      <th>Category</th>\n",
              "      <th>km4week</th>\n",
              "      <th>sp4week</th>\n",
              "      <th>CrossTraining</th>\n",
              "      <th>Wall21</th>\n",
              "      <th>MarathonTime</th>\n",
              "      <th>CATEGORY</th>\n",
              "    </tr>\n",
              "  </thead>\n",
              "  <tbody>\n",
              "    <tr>\n",
              "      <th>0</th>\n",
              "      <td>1</td>\n",
              "      <td>Prague17</td>\n",
              "      <td>Blair MORGAN</td>\n",
              "      <td>1</td>\n",
              "      <td>132.8</td>\n",
              "      <td>14.434783</td>\n",
              "      <td>0</td>\n",
              "      <td>1.16</td>\n",
              "      <td>2.37</td>\n",
              "      <td>A</td>\n",
              "    </tr>\n",
              "    <tr>\n",
              "      <th>1</th>\n",
              "      <td>2</td>\n",
              "      <td>Prague17</td>\n",
              "      <td>Robert Heczko</td>\n",
              "      <td>1</td>\n",
              "      <td>68.6</td>\n",
              "      <td>13.674419</td>\n",
              "      <td>0</td>\n",
              "      <td>1.23</td>\n",
              "      <td>2.59</td>\n",
              "      <td>A</td>\n",
              "    </tr>\n",
              "    <tr>\n",
              "      <th>2</th>\n",
              "      <td>3</td>\n",
              "      <td>Prague17</td>\n",
              "      <td>Michon Jerome</td>\n",
              "      <td>1</td>\n",
              "      <td>82.7</td>\n",
              "      <td>13.520436</td>\n",
              "      <td>0</td>\n",
              "      <td>1.30</td>\n",
              "      <td>2.66</td>\n",
              "      <td>A</td>\n",
              "    </tr>\n",
              "    <tr>\n",
              "      <th>3</th>\n",
              "      <td>4</td>\n",
              "      <td>Prague17</td>\n",
              "      <td>Daniel Or lek</td>\n",
              "      <td>2</td>\n",
              "      <td>137.5</td>\n",
              "      <td>12.258544</td>\n",
              "      <td>0</td>\n",
              "      <td>1.32</td>\n",
              "      <td>2.68</td>\n",
              "      <td>A</td>\n",
              "    </tr>\n",
              "    <tr>\n",
              "      <th>4</th>\n",
              "      <td>5</td>\n",
              "      <td>Prague17</td>\n",
              "      <td>Luk ? Mr zek</td>\n",
              "      <td>1</td>\n",
              "      <td>84.6</td>\n",
              "      <td>13.945055</td>\n",
              "      <td>0</td>\n",
              "      <td>1.36</td>\n",
              "      <td>2.74</td>\n",
              "      <td>A</td>\n",
              "    </tr>\n",
              "    <tr>\n",
              "      <th>5</th>\n",
              "      <td>6</td>\n",
              "      <td>Prague17</td>\n",
              "      <td>David Pecina</td>\n",
              "      <td>3</td>\n",
              "      <td>42.2</td>\n",
              "      <td>13.612903</td>\n",
              "      <td>0</td>\n",
              "      <td>1.32</td>\n",
              "      <td>2.78</td>\n",
              "      <td>A</td>\n",
              "    </tr>\n",
              "    <tr>\n",
              "      <th>6</th>\n",
              "      <td>7</td>\n",
              "      <td>Prague17</td>\n",
              "      <td>Tomas Drabek</td>\n",
              "      <td>3</td>\n",
              "      <td>89.0</td>\n",
              "      <td>12.594340</td>\n",
              "      <td>0</td>\n",
              "      <td>1.38</td>\n",
              "      <td>2.81</td>\n",
              "      <td>A</td>\n",
              "    </tr>\n",
              "    <tr>\n",
              "      <th>7</th>\n",
              "      <td>8</td>\n",
              "      <td>Prague17</td>\n",
              "      <td>Jan Rada</td>\n",
              "      <td>2</td>\n",
              "      <td>106.0</td>\n",
              "      <td>12.694611</td>\n",
              "      <td>0</td>\n",
              "      <td>1.41</td>\n",
              "      <td>2.84</td>\n",
              "      <td>A</td>\n",
              "    </tr>\n",
              "    <tr>\n",
              "      <th>8</th>\n",
              "      <td>9</td>\n",
              "      <td>Prague17</td>\n",
              "      <td>Tomas Drabek</td>\n",
              "      <td>1</td>\n",
              "      <td>70.0</td>\n",
              "      <td>13.770492</td>\n",
              "      <td>1</td>\n",
              "      <td>1.38</td>\n",
              "      <td>2.83</td>\n",
              "      <td>A</td>\n",
              "    </tr>\n",
              "    <tr>\n",
              "      <th>9</th>\n",
              "      <td>10</td>\n",
              "      <td>Prague17</td>\n",
              "      <td>martin ?indel ?</td>\n",
              "      <td>2</td>\n",
              "      <td>84.2</td>\n",
              "      <td>13.365079</td>\n",
              "      <td>0</td>\n",
              "      <td>1.35</td>\n",
              "      <td>2.86</td>\n",
              "      <td>A</td>\n",
              "    </tr>\n",
              "  </tbody>\n",
              "</table>\n",
              "</div>"
            ],
            "text/plain": [
              "   id  Marathon             Name  Category  km4week    sp4week  CrossTraining  \\\n",
              "0   1  Prague17     Blair MORGAN         1    132.8  14.434783              0   \n",
              "1   2  Prague17    Robert Heczko         1     68.6  13.674419              0   \n",
              "2   3  Prague17    Michon Jerome         1     82.7  13.520436              0   \n",
              "3   4  Prague17    Daniel Or lek         2    137.5  12.258544              0   \n",
              "4   5  Prague17     Luk ? Mr zek         1     84.6  13.945055              0   \n",
              "5   6  Prague17     David Pecina         3     42.2  13.612903              0   \n",
              "6   7  Prague17     Tomas Drabek         3     89.0  12.594340              0   \n",
              "7   8  Prague17         Jan Rada         2    106.0  12.694611              0   \n",
              "8   9  Prague17     Tomas Drabek         1     70.0  13.770492              1   \n",
              "9  10  Prague17  martin ?indel ?         2     84.2  13.365079              0   \n",
              "\n",
              "   Wall21  MarathonTime CATEGORY  \n",
              "0    1.16          2.37        A  \n",
              "1    1.23          2.59        A  \n",
              "2    1.30          2.66        A  \n",
              "3    1.32          2.68        A  \n",
              "4    1.36          2.74        A  \n",
              "5    1.32          2.78        A  \n",
              "6    1.38          2.81        A  \n",
              "7    1.41          2.84        A  \n",
              "8    1.38          2.83        A  \n",
              "9    1.35          2.86        A  "
            ]
          },
          "execution_count": 488,
          "metadata": {},
          "output_type": "execute_result"
        }
      ],
      "source": [
        "data.head(10)"
      ]
    },
    {
      "cell_type": "code",
      "execution_count": null,
      "id": "6821c0b6-4187-4a16-bd30-837531a89ea6",
      "metadata": {
        "id": "6821c0b6-4187-4a16-bd30-837531a89ea6",
        "outputId": "5d1814bd-a87b-4ab2-f93e-400062954ac2"
      },
      "outputs": [
        {
          "name": "stdout",
          "output_type": "stream",
          "text": [
            "<class 'pandas.core.frame.DataFrame'>\n",
            "RangeIndex: 87 entries, 0 to 86\n",
            "Data columns (total 10 columns):\n",
            " #   Column         Non-Null Count  Dtype  \n",
            "---  ------         --------------  -----  \n",
            " 0   id             87 non-null     int64  \n",
            " 1   Marathon       87 non-null     object \n",
            " 2   Name           87 non-null     object \n",
            " 3   Category       87 non-null     int64  \n",
            " 4   km4week        87 non-null     float64\n",
            " 5   sp4week        87 non-null     float64\n",
            " 6   CrossTraining  87 non-null     int64  \n",
            " 7   Wall21         87 non-null     float64\n",
            " 8   MarathonTime   87 non-null     float64\n",
            " 9   CATEGORY       87 non-null     object \n",
            "dtypes: float64(4), int64(3), object(3)\n",
            "memory usage: 6.9+ KB\n"
          ]
        }
      ],
      "source": [
        "data.info()"
      ]
    },
    {
      "cell_type": "markdown",
      "id": "c1e37a80-a72d-401b-89ed-af327d3fa66a",
      "metadata": {
        "id": "c1e37a80-a72d-401b-89ed-af327d3fa66a"
      },
      "source": [
        "Ya cocluida la primera etapa de conocer los datos y generar la limpieza y transformación del data frame, procedo a definir las columnas con las trabajaré el modelo, para lo cula procedo a eliminar las siguientes columnas que indica el codigo a continuación"
      ]
    },
    {
      "cell_type": "code",
      "execution_count": null,
      "id": "2a042103-e36b-4c0f-8ed2-2f56b0ee0d71",
      "metadata": {
        "id": "2a042103-e36b-4c0f-8ed2-2f56b0ee0d71",
        "outputId": "c152e223-f350-4094-dbbf-969f4c5875d8"
      },
      "outputs": [
        {
          "name": "stdout",
          "output_type": "stream",
          "text": [
            "Columnas eliminadas\n"
          ]
        }
      ],
      "source": [
        "data = data.drop(columns=['id', 'Name', 'Marathon', 'CATEGORY'])\n",
        "print('Columnas eliminadas')"
      ]
    },
    {
      "cell_type": "code",
      "execution_count": null,
      "id": "b60996de-9695-401f-894d-81c6cf3acd8b",
      "metadata": {
        "id": "b60996de-9695-401f-894d-81c6cf3acd8b",
        "outputId": "b04af303-5aa8-48f9-8ed9-97edab95c81d"
      },
      "outputs": [
        {
          "data": {
            "text/html": [
              "<div>\n",
              "<style scoped>\n",
              "    .dataframe tbody tr th:only-of-type {\n",
              "        vertical-align: middle;\n",
              "    }\n",
              "\n",
              "    .dataframe tbody tr th {\n",
              "        vertical-align: top;\n",
              "    }\n",
              "\n",
              "    .dataframe thead th {\n",
              "        text-align: right;\n",
              "    }\n",
              "</style>\n",
              "<table border=\"1\" class=\"dataframe\">\n",
              "  <thead>\n",
              "    <tr style=\"text-align: right;\">\n",
              "      <th></th>\n",
              "      <th>Category</th>\n",
              "      <th>km4week</th>\n",
              "      <th>sp4week</th>\n",
              "      <th>CrossTraining</th>\n",
              "      <th>Wall21</th>\n",
              "      <th>MarathonTime</th>\n",
              "    </tr>\n",
              "  </thead>\n",
              "  <tbody>\n",
              "    <tr>\n",
              "      <th>0</th>\n",
              "      <td>1</td>\n",
              "      <td>132.8</td>\n",
              "      <td>14.434783</td>\n",
              "      <td>0</td>\n",
              "      <td>1.16</td>\n",
              "      <td>2.37</td>\n",
              "    </tr>\n",
              "    <tr>\n",
              "      <th>1</th>\n",
              "      <td>1</td>\n",
              "      <td>68.6</td>\n",
              "      <td>13.674419</td>\n",
              "      <td>0</td>\n",
              "      <td>1.23</td>\n",
              "      <td>2.59</td>\n",
              "    </tr>\n",
              "    <tr>\n",
              "      <th>2</th>\n",
              "      <td>1</td>\n",
              "      <td>82.7</td>\n",
              "      <td>13.520436</td>\n",
              "      <td>0</td>\n",
              "      <td>1.30</td>\n",
              "      <td>2.66</td>\n",
              "    </tr>\n",
              "    <tr>\n",
              "      <th>3</th>\n",
              "      <td>2</td>\n",
              "      <td>137.5</td>\n",
              "      <td>12.258544</td>\n",
              "      <td>0</td>\n",
              "      <td>1.32</td>\n",
              "      <td>2.68</td>\n",
              "    </tr>\n",
              "    <tr>\n",
              "      <th>4</th>\n",
              "      <td>1</td>\n",
              "      <td>84.6</td>\n",
              "      <td>13.945055</td>\n",
              "      <td>0</td>\n",
              "      <td>1.36</td>\n",
              "      <td>2.74</td>\n",
              "    </tr>\n",
              "    <tr>\n",
              "      <th>5</th>\n",
              "      <td>3</td>\n",
              "      <td>42.2</td>\n",
              "      <td>13.612903</td>\n",
              "      <td>0</td>\n",
              "      <td>1.32</td>\n",
              "      <td>2.78</td>\n",
              "    </tr>\n",
              "    <tr>\n",
              "      <th>6</th>\n",
              "      <td>3</td>\n",
              "      <td>89.0</td>\n",
              "      <td>12.594340</td>\n",
              "      <td>0</td>\n",
              "      <td>1.38</td>\n",
              "      <td>2.81</td>\n",
              "    </tr>\n",
              "    <tr>\n",
              "      <th>7</th>\n",
              "      <td>2</td>\n",
              "      <td>106.0</td>\n",
              "      <td>12.694611</td>\n",
              "      <td>0</td>\n",
              "      <td>1.41</td>\n",
              "      <td>2.84</td>\n",
              "    </tr>\n",
              "    <tr>\n",
              "      <th>8</th>\n",
              "      <td>1</td>\n",
              "      <td>70.0</td>\n",
              "      <td>13.770492</td>\n",
              "      <td>1</td>\n",
              "      <td>1.38</td>\n",
              "      <td>2.83</td>\n",
              "    </tr>\n",
              "    <tr>\n",
              "      <th>9</th>\n",
              "      <td>2</td>\n",
              "      <td>84.2</td>\n",
              "      <td>13.365079</td>\n",
              "      <td>0</td>\n",
              "      <td>1.35</td>\n",
              "      <td>2.86</td>\n",
              "    </tr>\n",
              "  </tbody>\n",
              "</table>\n",
              "</div>"
            ],
            "text/plain": [
              "   Category  km4week    sp4week  CrossTraining  Wall21  MarathonTime\n",
              "0         1    132.8  14.434783              0    1.16          2.37\n",
              "1         1     68.6  13.674419              0    1.23          2.59\n",
              "2         1     82.7  13.520436              0    1.30          2.66\n",
              "3         2    137.5  12.258544              0    1.32          2.68\n",
              "4         1     84.6  13.945055              0    1.36          2.74\n",
              "5         3     42.2  13.612903              0    1.32          2.78\n",
              "6         3     89.0  12.594340              0    1.38          2.81\n",
              "7         2    106.0  12.694611              0    1.41          2.84\n",
              "8         1     70.0  13.770492              1    1.38          2.83\n",
              "9         2     84.2  13.365079              0    1.35          2.86"
            ]
          },
          "execution_count": 491,
          "metadata": {},
          "output_type": "execute_result"
        }
      ],
      "source": [
        "data.head(10)"
      ]
    },
    {
      "cell_type": "code",
      "execution_count": null,
      "id": "ce98bc59-f4c5-4802-ba73-9dd35c235cf2",
      "metadata": {
        "id": "ce98bc59-f4c5-4802-ba73-9dd35c235cf2",
        "outputId": "39e91208-0117-4f4e-fba3-d8d5607375e3"
      },
      "outputs": [
        {
          "name": "stdout",
          "output_type": "stream",
          "text": [
            "<class 'pandas.core.frame.DataFrame'>\n",
            "RangeIndex: 87 entries, 0 to 86\n",
            "Data columns (total 6 columns):\n",
            " #   Column         Non-Null Count  Dtype  \n",
            "---  ------         --------------  -----  \n",
            " 0   Category       87 non-null     int64  \n",
            " 1   km4week        87 non-null     float64\n",
            " 2   sp4week        87 non-null     float64\n",
            " 3   CrossTraining  87 non-null     int64  \n",
            " 4   Wall21         87 non-null     float64\n",
            " 5   MarathonTime   87 non-null     float64\n",
            "dtypes: float64(4), int64(2)\n",
            "memory usage: 4.2 KB\n",
            "\n",
            "°°°°°° SHAPE °°°°°°°\n",
            "Rows 87\n",
            "Files 6\n",
            "\n"
          ]
        }
      ],
      "source": [
        "data.info()\n",
        "print(\"\")\n",
        "rows, files = data.shape\n",
        "print(\" SHAPE \".center(20, \"°\"))\n",
        "# Mostrar el resultado en el formato deseado\n",
        "print(f\"Rows {rows}\\nFiles {files}\")\n",
        "print(\"\")"
      ]
    },
    {
      "cell_type": "markdown",
      "id": "ef62459a-c25e-494f-a311-a1ddda69976a",
      "metadata": {
        "id": "ef62459a-c25e-494f-a311-a1ddda69976a"
      },
      "source": [
        "Ya definidas las columnas y los datos ya ordenados, puedo comenzar a ver tipos de correlación que pueden existir entre la variable predictoraMarathonTime y alguna otra variable. Para lo cual genero el mapa de calor de correlación y regresion lineal"
      ]
    },
    {
      "cell_type": "code",
      "execution_count": null,
      "id": "1928f5fc-3ccf-4c13-af45-4ddb3d3aa024",
      "metadata": {
        "id": "1928f5fc-3ccf-4c13-af45-4ddb3d3aa024",
        "outputId": "8089ccac-dad6-45fe-c651-0cb462a67b17"
      },
      "outputs": [
        {
          "data": {
            "image/png": "[encoded data removed]",
            "text/plain": [
              "<Figure size 1000x600 with 2 Axes>"
            ]
          },
          "metadata": {},
          "output_type": "display_data"
        }
      ],
      "source": [
        "import seaborn as sns\n",
        "import matplotlib.pyplot as plt\n",
        "\n",
        "# Seleccionar las columnas de interés\n",
        "subset = data[['Category', 'km4week', 'sp4week', 'CrossTraining', 'Wall21', 'MarathonTime']]\n",
        "\n",
        "# Convertir la columna 'Category' a numérica si es categórica\n",
        "subset['Category'] = subset['Category'].astype('category').cat.codes\n",
        "\n",
        "# Calcular la matriz de correlación\n",
        "correlacion = subset.corr()\n",
        "\n",
        "# Generar el mapa de calor\n",
        "plt.figure(figsize=(10, 6))\n",
        "sns.heatmap(correlacion, annot=True, cmap='coolwarm', fmt='.2f')\n",
        "\n",
        "# Mostrar el gráfico\n",
        "plt.title('Mapa de Calor de las Variables Seleccionadas')\n",
        "plt.show()\n"
      ]
    },
    {
      "cell_type": "markdown",
      "id": "0ba1228c-3c5a-4c62-81c8-61f9a66f21cb",
      "metadata": {
        "id": "0ba1228c-3c5a-4c62-81c8-61f9a66f21cb"
      },
      "source": [
        "Correlación del Mapa de calor:\n",
        "MarathonTime tiene una correlación alta y positiva con la variable Wall21 (0.94), lo que indica que estas dos variables están estrechamente relacionadas. Esto sugiere que a medida que aumenta el valor de Wall21, también lo hace el tiempo de maratón (MarathonTime)"
      ]
    },
    {
      "cell_type": "markdown",
      "id": "ccc74d96-91af-4b17-9057-981059b0a27a",
      "metadata": {
        "id": "ccc74d96-91af-4b17-9057-981059b0a27a"
      },
      "source": [
        "Mediante un grafico de disperción de MarathonTime como variable independiente y Wall21 como variable dependiente confirmo la correlación de ambas variables"
      ]
    },
    {
      "cell_type": "code",
      "execution_count": null,
      "id": "faf75dd5-ef5d-48f4-9292-7089a95e28ec",
      "metadata": {
        "id": "faf75dd5-ef5d-48f4-9292-7089a95e28ec",
        "outputId": "d9b79c91-a3e3-45fc-b8a5-b412d175efe2"
      },
      "outputs": [
        {
          "data": {
            "image/png": "[encoded data removed]",
            "text/plain": [
              "<Figure size 640x480 with 1 Axes>"
            ]
          },
          "metadata": {},
          "output_type": "display_data"
        }
      ],
      "source": [
        "\n",
        "x = data['MarathonTime'] # Variable predictora Independiente\n",
        "y = data['Wall21'] # Variable dependiente\n",
        "\n",
        "# Ajuste de la línea de regresión\n",
        "coeficientes = np.polyfit(x, y, 1)  # 1 indica una línea recta\n",
        "linea_regresion = np.polyval(coeficientes, x)\n",
        "\n",
        "# Gráfico de dispersión\n",
        "plt.scatter(x, y, label='Datos', color='blue')\n",
        "plt.plot(x, linea_regresion, color='red', label='Línea de Regresión')\n",
        "plt.title('Wall21 V/S MarathonTime')\n",
        "plt.xlabel('MarathonTime')\n",
        "plt.ylabel('Wall21')\n",
        "plt.legend()\n",
        "plt.show()\n"
      ]
    },
    {
      "cell_type": "markdown",
      "id": "9126428f-82f1-499c-8858-9a36e308a70e",
      "metadata": {
        "id": "9126428f-82f1-499c-8858-9a36e308a70e"
      },
      "source": [
        "Deteccion de Outliers utilizando en conjunto Z-score y IQR, junto con boxplots:"
      ]
    },
    {
      "cell_type": "markdown",
      "id": "ec62ef82-3653-4496-93ef-183100d8378b",
      "metadata": {
        "id": "ec62ef82-3653-4496-93ef-183100d8378b"
      },
      "source": [
        "1.- Z-score: Detecta outliers con un Z-score mayor a 3 (valor absoluto).\n",
        "\n",
        "2.- IQR: Detecta outliers usando el rango intercuartílico (valores fuera de Q1 - 1.5 * IQR y Q3 + 1.5 * IQR).\n",
        "\n",
        "3.- Boxplot: Visualiza los outliers con un gráfico de caja para cada columna."
      ]
    },
    {
      "cell_type": "markdown",
      "id": "8c117884-ab98-445d-ad69-0cee7514e822",
      "metadata": {
        "id": "8c117884-ab98-445d-ad69-0cee7514e822"
      },
      "source": [
        "Detección de Outliers con Z-score\n"
      ]
    },
    {
      "cell_type": "code",
      "execution_count": null,
      "id": "34439774-b61d-4f38-8418-0ce8be7cb5c6",
      "metadata": {
        "id": "34439774-b61d-4f38-8418-0ce8be7cb5c6",
        "outputId": "0be1c021-9801-4802-f7d5-621e6f7126b7"
      },
      "outputs": [
        {
          "name": "stdout",
          "output_type": "stream",
          "text": [
            "\n",
            "Analizando columna: km4week\n",
            "Outliers detectados con Z-score en km4week:\n",
            "Series([], Name: km4week, dtype: float64)\n",
            "\n",
            "\n",
            "Analizando columna: sp4week\n",
            "Outliers detectados con Z-score en sp4week:\n",
            "81    11125.0\n",
            "Name: sp4week, dtype: float64\n",
            "\n",
            "\n",
            "Analizando columna: Wall21\n",
            "Outliers detectados con Z-score en Wall21:\n",
            "Series([], Name: Wall21, dtype: float64)\n",
            "\n"
          ]
        }
      ],
      "source": [
        "columnas_numericas = ['km4week', 'sp4week', 'Wall21']\n",
        "\n",
        "\n",
        "for col in columnas_numericas:\n",
        "    print(f\"\\nAnalizando columna: {col}\")\n",
        "\n",
        "    # 1. Detección de outliers con Z-score\n",
        "    z_scores = np.abs(stats.zscore(data[col]))\n",
        "    outliers_zscore = data[col][z_scores > 3]\n",
        "    print(f\"Outliers detectados con Z-score en {col}:\\n{outliers_zscore}\\n\")\n",
        "\n",
        "    # 3. Visualización con Boxplot\n",
        "    #plt.figure(figsize=(8, 6))\n",
        "    #sns.boxplot(x=data[col])\n",
        "    #plt.title(f'Boxplot para detectar outliers en {col} usando Z-score')\n",
        "    #plt.show()\n"
      ]
    },
    {
      "cell_type": "markdown",
      "id": "22340d9f-6f16-4b55-8b05-ad7d987cf824",
      "metadata": {
        "id": "22340d9f-6f16-4b55-8b05-ad7d987cf824"
      },
      "source": [
        "Detección de Outliers con IQR"
      ]
    },
    {
      "cell_type": "code",
      "execution_count": null,
      "id": "582a6d1f-c41b-4a4d-947d-431c9a96a86c",
      "metadata": {
        "id": "582a6d1f-c41b-4a4d-947d-431c9a96a86c",
        "outputId": "3483d886-4396-46a1-eafa-de1771689cf7"
      },
      "outputs": [
        {
          "name": "stdout",
          "output_type": "stream",
          "text": [
            "\n",
            "Analizando columna: km4week\n",
            "Outliers detectados con IQR en km4week:\n",
            "0     132.8\n",
            "3     137.5\n",
            "26    129.6\n",
            "Name: km4week, dtype: float64\n",
            "\n",
            "\n",
            "Analizando columna: sp4week\n",
            "Outliers detectados con IQR en sp4week:\n",
            "15       14.970492\n",
            "19        8.031414\n",
            "76        8.337931\n",
            "81    11125.000000\n",
            "Name: sp4week, dtype: float64\n",
            "\n",
            "\n",
            "Analizando columna: Wall21\n",
            "Outliers detectados con IQR en Wall21:\n",
            "Series([], Name: Wall21, dtype: float64)\n",
            "\n"
          ]
        }
      ],
      "source": [
        "columnas_numericas = ['km4week', 'sp4week', 'Wall21']\n",
        "\n",
        "# Iterar sobre cada columna para aplicar el método del IQR\n",
        "for col in columnas_numericas:\n",
        "    print(f\"\\nAnalizando columna: {col}\")\n",
        "\n",
        "    # 2. Detección de outliers con IQR\n",
        "    Q1 = np.percentile(data[col], 25)\n",
        "    Q3 = np.percentile(data[col], 75)\n",
        "    IQR = Q3 - Q1\n",
        "    limite_inferior = Q1 - 1.5 * IQR\n",
        "    limite_superior = Q3 + 1.5 * IQR\n",
        "    outliers_iqr = data[col][(data[col] < limite_inferior) | (data[col] > limite_superior)]\n",
        "    print(f\"Outliers detectados con IQR en {col}:\\n{outliers_iqr}\\n\")\n",
        "\n",
        "    # 3. Visualización con Boxplot\n",
        "    #plt.figure(figsize=(8, 6))\n",
        "    #sns.boxplot(x=data[col])\n",
        "    #plt.title(f'Boxplot para detectar outliers en {col} usando IQR')\n",
        "    #plt.show()\n"
      ]
    },
    {
      "cell_type": "markdown",
      "id": "ea485f27-6859-43bd-8ce1-e89a961e0389",
      "metadata": {
        "id": "ea485f27-6859-43bd-8ce1-e89a961e0389"
      },
      "source": [
        "Dado que se han detectado outliers significativos en km4week y sp4week (especialmente el valor extremadamente alto en sp4week), sería más seguro usar la mediana para imputar los outliers. Esto permitirá evitar que un valor extremo distorsione la imputación y afecte la calidad de tu análisis."
      ]
    },
    {
      "cell_type": "code",
      "execution_count": null,
      "id": "03e3ce9a-d412-4e1f-86ae-77e6b2c40f64",
      "metadata": {
        "id": "03e3ce9a-d412-4e1f-86ae-77e6b2c40f64",
        "outputId": "eca70440-c1ad-485e-c0e6-c21cfb6fa608"
      },
      "outputs": [
        {
          "data": {
            "text/html": [
              "<div>\n",
              "<style scoped>\n",
              "    .dataframe tbody tr th:only-of-type {\n",
              "        vertical-align: middle;\n",
              "    }\n",
              "\n",
              "    .dataframe tbody tr th {\n",
              "        vertical-align: top;\n",
              "    }\n",
              "\n",
              "    .dataframe thead th {\n",
              "        text-align: right;\n",
              "    }\n",
              "</style>\n",
              "<table border=\"1\" class=\"dataframe\">\n",
              "  <thead>\n",
              "    <tr style=\"text-align: right;\">\n",
              "      <th></th>\n",
              "      <th>km4week</th>\n",
              "      <th>sp4week</th>\n",
              "    </tr>\n",
              "  </thead>\n",
              "  <tbody>\n",
              "    <tr>\n",
              "      <th>0</th>\n",
              "      <td>132.8</td>\n",
              "      <td>14.434783</td>\n",
              "    </tr>\n",
              "    <tr>\n",
              "      <th>1</th>\n",
              "      <td>58.8</td>\n",
              "      <td>13.674419</td>\n",
              "    </tr>\n",
              "    <tr>\n",
              "      <th>2</th>\n",
              "      <td>58.8</td>\n",
              "      <td>13.520436</td>\n",
              "    </tr>\n",
              "    <tr>\n",
              "      <th>3</th>\n",
              "      <td>137.5</td>\n",
              "      <td>12.258544</td>\n",
              "    </tr>\n",
              "    <tr>\n",
              "      <th>4</th>\n",
              "      <td>58.8</td>\n",
              "      <td>13.945055</td>\n",
              "    </tr>\n",
              "  </tbody>\n",
              "</table>\n",
              "</div>"
            ],
            "text/plain": [
              "   km4week    sp4week\n",
              "0    132.8  14.434783\n",
              "1     58.8  13.674419\n",
              "2     58.8  13.520436\n",
              "3    137.5  12.258544\n",
              "4     58.8  13.945055"
            ]
          },
          "execution_count": 497,
          "metadata": {},
          "output_type": "execute_result"
        }
      ],
      "source": [
        "# Función para reemplazar outliers con la mediana\n",
        "def imputar_outliers_con_mediana(df, col, limites):\n",
        "    mediana = df[col].median()  # Calcular la mediana\n",
        "    df[col] = np.where((df[col] < limites[0]) | (df[col] > limites[1]), mediana, df[col])  # Reemplazar outliers\n",
        "    return df\n",
        "\n",
        "# Aplicar imputación en 'km4week'\n",
        "limites_km4week = [129.6, 137.5]  # Límites definidos por IQR\n",
        "data = imputar_outliers_con_mediana(data, 'km4week', limites_km4week)\n",
        "\n",
        "# Aplicar imputación en 'sp4week'\n",
        "limites_sp4week = [8.03, 14.97]  # Límites definidos por IQR\n",
        "data = imputar_outliers_con_mediana(data, 'sp4week', limites_sp4week)\n",
        "\n",
        "# Verifica el resultado\n",
        "data[['km4week', 'sp4week']].head()\n"
      ]
    },
    {
      "cell_type": "markdown",
      "id": "2992864a-c7f5-499a-9ed2-b59f5101b864",
      "metadata": {
        "id": "2992864a-c7f5-499a-9ed2-b59f5101b864"
      },
      "source": [
        "Nuevamente revisamos si hay Outliers para aegurarnos que los cambios fueron realizados con exito"
      ]
    },
    {
      "cell_type": "code",
      "execution_count": null,
      "id": "bb742152-4616-42d8-8700-7974a01d657d",
      "metadata": {
        "id": "bb742152-4616-42d8-8700-7974a01d657d",
        "outputId": "655e4ead-4c5f-4259-d679-c1bf51db9ac1"
      },
      "outputs": [
        {
          "name": "stdout",
          "output_type": "stream",
          "text": [
            "\n",
            "Analizando columna: km4week\n",
            "Outliers detectados con IQR en km4week:\n",
            "0     132.8\n",
            "3     137.5\n",
            "26    129.6\n",
            "Name: km4week, dtype: float64\n",
            "\n",
            "\n",
            "Analizando columna: sp4week\n",
            "Outliers detectados con IQR en sp4week:\n",
            "19    8.031414\n",
            "76    8.337931\n",
            "Name: sp4week, dtype: float64\n",
            "\n",
            "\n",
            "Analizando columna: Wall21\n",
            "Outliers detectados con IQR en Wall21:\n",
            "Series([], Name: Wall21, dtype: float64)\n",
            "\n"
          ]
        }
      ],
      "source": [
        "columnas_numericas = ['km4week', 'sp4week', 'Wall21']\n",
        "\n",
        "# Iterar sobre cada columna para aplicar el método del IQR\n",
        "for col in columnas_numericas:\n",
        "    print(f\"\\nAnalizando columna: {col}\")\n",
        "\n",
        "    # 2. Detección de outliers con IQR\n",
        "    Q1 = np.percentile(data[col], 25)\n",
        "    Q3 = np.percentile(data[col], 75)\n",
        "    IQR = Q3 - Q1\n",
        "    limite_inferior = Q1 - 1.5 * IQR\n",
        "    limite_superior = Q3 + 1.5 * IQR\n",
        "    outliers_iqr = data[col][(data[col] < limite_inferior) | (data[col] > limite_superior)]\n",
        "    print(f\"Outliers detectados con IQR en {col}:\\n{outliers_iqr}\\n\")"
      ]
    },
    {
      "cell_type": "markdown",
      "id": "ebd49411-b943-4e9a-96b5-7a01cfc8a158",
      "metadata": {
        "id": "ebd49411-b943-4e9a-96b5-7a01cfc8a158"
      },
      "source": [
        "Dado que no resulto bien la imputación anteriror, realizo un recalculo de los limites IQR para imputar nuevamente con la mediana"
      ]
    },
    {
      "cell_type": "code",
      "execution_count": null,
      "id": "b8a150af-b9da-4f09-a946-3a4e4352f3d9",
      "metadata": {
        "id": "b8a150af-b9da-4f09-a946-3a4e4352f3d9",
        "outputId": "de01bfb5-d386-45c2-dc52-b854f008542f"
      },
      "outputs": [
        {
          "name": "stdout",
          "output_type": "stream",
          "text": [
            "Después de la nueva imputación:\n",
            "Outliers detectados con IQR en km4week:\n",
            "Empty DataFrame\n",
            "Columns: [Category, km4week, sp4week, CrossTraining, Wall21, MarathonTime]\n",
            "Index: []\n",
            "Outliers detectados con IQR en sp4week:\n",
            "   Category  km4week    sp4week  CrossTraining  Wall21  MarathonTime\n",
            "0         1     58.8  14.434783              0    1.16          2.37\n"
          ]
        }
      ],
      "source": [
        "# Recalcular límites IQR\n",
        "limites_km4week = calcular_limites_iqr(data, 'km4week')\n",
        "limites_sp4week = calcular_limites_iqr(data, 'sp4week')\n",
        "\n",
        "# Imputar nuevamente los outliers\n",
        "data = imputar_outliers_con_mediana(data, 'km4week', limites_km4week)\n",
        "data = imputar_outliers_con_mediana(data, 'sp4week', limites_sp4week)\n",
        "\n",
        "# Verificar los resultados después de la nueva imputación\n",
        "print(\"Después de la nueva imputación:\")\n",
        "for col in ['km4week', 'sp4week']:\n",
        "    limites = calcular_limites_iqr(data, col)\n",
        "    outliers_iqr = data[(data[col] < limites[0]) | (data[col] > limites[1])]\n",
        "    print(f\"Outliers detectados con IQR en {col}:\")\n",
        "    print(outliers_iqr)\n"
      ]
    },
    {
      "cell_type": "markdown",
      "id": "21dca539-8e31-45e1-b1a3-af83c3b7016d",
      "metadata": {
        "id": "21dca539-8e31-45e1-b1a3-af83c3b7016d"
      },
      "source": [
        "Corroboro nuevamente los Outliers ya que vovlio a aparecer uno que se habia imputado anteriormente"
      ]
    },
    {
      "cell_type": "code",
      "execution_count": null,
      "id": "cf7a1a1b-7ddc-4fc8-be18-062f54ff9a05",
      "metadata": {
        "id": "cf7a1a1b-7ddc-4fc8-be18-062f54ff9a05",
        "outputId": "6aa51fd8-420c-4823-8c6b-3677444e3611"
      },
      "outputs": [
        {
          "name": "stdout",
          "output_type": "stream",
          "text": [
            "\n",
            "Analizando columna: km4week\n",
            "Outliers detectados con IQR en km4week:\n",
            "Series([], Name: km4week, dtype: float64)\n",
            "\n",
            "\n",
            "Analizando columna: sp4week\n",
            "Outliers detectados con IQR en sp4week:\n",
            "0    14.434783\n",
            "Name: sp4week, dtype: float64\n",
            "\n",
            "\n",
            "Analizando columna: Wall21\n",
            "Outliers detectados con IQR en Wall21:\n",
            "Series([], Name: Wall21, dtype: float64)\n",
            "\n"
          ]
        }
      ],
      "source": [
        "columnas_numericas = ['km4week', 'sp4week', 'Wall21']\n",
        "\n",
        "# Iterar sobre cada columna para aplicar el método del IQR\n",
        "for col in columnas_numericas:\n",
        "    print(f\"\\nAnalizando columna: {col}\")\n",
        "\n",
        "    # 2. Detección de outliers con IQR\n",
        "    Q1 = np.percentile(data[col], 25)\n",
        "    Q3 = np.percentile(data[col], 75)\n",
        "    IQR = Q3 - Q1\n",
        "    limite_inferior = Q1 - 1.5 * IQR\n",
        "    limite_superior = Q3 + 1.5 * IQR\n",
        "    outliers_iqr = data[col][(data[col] < limite_inferior) | (data[col] > limite_superior)]\n",
        "    print(f\"Outliers detectados con IQR en {col}:\\n{outliers_iqr}\\n\")"
      ]
    },
    {
      "cell_type": "markdown",
      "id": "378d20af-0cb7-4398-b695-788e11e01420",
      "metadata": {
        "id": "378d20af-0cb7-4398-b695-788e11e01420"
      },
      "source": [
        "como es un solo dato del data frame procedo a eliminar la fila donde esta el outlier de la columna sp4week"
      ]
    },
    {
      "cell_type": "code",
      "execution_count": null,
      "id": "49820d1a-8ccc-4d44-845b-3cf411ecd27b",
      "metadata": {
        "id": "49820d1a-8ccc-4d44-845b-3cf411ecd27b"
      },
      "outputs": [],
      "source": [
        "indice_outlier = data[data['sp4week'] > 14].index\n",
        "\n",
        "# Eliminar la fila utilizando drop\n",
        "data = data.drop(indice_outlier)"
      ]
    },
    {
      "cell_type": "markdown",
      "id": "a8466444-40c4-4d2c-9eca-2c0d101989a6",
      "metadata": {
        "id": "a8466444-40c4-4d2c-9eca-2c0d101989a6"
      },
      "source": [
        "Vuelvo a verificar presencia de Outliers"
      ]
    },
    {
      "cell_type": "code",
      "execution_count": null,
      "id": "8ee4b6c3-1565-4776-bb03-a0985127ded5",
      "metadata": {
        "id": "8ee4b6c3-1565-4776-bb03-a0985127ded5",
        "outputId": "6a0ea605-883e-4171-8c0f-1bc6e51f3a94"
      },
      "outputs": [
        {
          "name": "stdout",
          "output_type": "stream",
          "text": [
            "\n",
            "Analizando columna: km4week\n",
            "Outliers detectados con IQR en km4week:\n",
            "Series([], Name: km4week, dtype: float64)\n",
            "\n",
            "\n",
            "Analizando columna: sp4week\n",
            "Outliers detectados con IQR en sp4week:\n",
            "Series([], Name: sp4week, dtype: float64)\n",
            "\n",
            "\n",
            "Analizando columna: Wall21\n",
            "Outliers detectados con IQR en Wall21:\n",
            "Series([], Name: Wall21, dtype: float64)\n",
            "\n"
          ]
        }
      ],
      "source": [
        "columnas_numericas = ['km4week', 'sp4week', 'Wall21']\n",
        "\n",
        "# Iterar sobre cada columna para aplicar el método del IQR\n",
        "for col in columnas_numericas:\n",
        "    print(f\"\\nAnalizando columna: {col}\")\n",
        "\n",
        "    # 2. Detección de outliers con IQR\n",
        "    Q1 = np.percentile(data[col], 25)\n",
        "    Q3 = np.percentile(data[col], 75)\n",
        "    IQR = Q3 - Q1\n",
        "    limite_inferior = Q1 - 1.5 * IQR\n",
        "    limite_superior = Q3 + 1.5 * IQR\n",
        "    outliers_iqr = data[col][(data[col] < limite_inferior) | (data[col] > limite_superior)]\n",
        "    print(f\"Outliers detectados con IQR en {col}:\\n{outliers_iqr}\\n\")"
      ]
    },
    {
      "cell_type": "code",
      "execution_count": null,
      "id": "b5bdc3ed-67f2-445e-928b-7ce4864e6226",
      "metadata": {
        "id": "b5bdc3ed-67f2-445e-928b-7ce4864e6226",
        "outputId": "9e14709a-c83e-4787-a935-26e2fcd518bb"
      },
      "outputs": [
        {
          "data": {
            "text/html": [
              "<div>\n",
              "<style scoped>\n",
              "    .dataframe tbody tr th:only-of-type {\n",
              "        vertical-align: middle;\n",
              "    }\n",
              "\n",
              "    .dataframe tbody tr th {\n",
              "        vertical-align: top;\n",
              "    }\n",
              "\n",
              "    .dataframe thead th {\n",
              "        text-align: right;\n",
              "    }\n",
              "</style>\n",
              "<table border=\"1\" class=\"dataframe\">\n",
              "  <thead>\n",
              "    <tr style=\"text-align: right;\">\n",
              "      <th></th>\n",
              "      <th>Category</th>\n",
              "      <th>km4week</th>\n",
              "      <th>sp4week</th>\n",
              "      <th>CrossTraining</th>\n",
              "      <th>Wall21</th>\n",
              "      <th>MarathonTime</th>\n",
              "    </tr>\n",
              "  </thead>\n",
              "  <tbody>\n",
              "    <tr>\n",
              "      <th>1</th>\n",
              "      <td>1</td>\n",
              "      <td>58.8</td>\n",
              "      <td>13.674419</td>\n",
              "      <td>0</td>\n",
              "      <td>1.23</td>\n",
              "      <td>2.59</td>\n",
              "    </tr>\n",
              "    <tr>\n",
              "      <th>2</th>\n",
              "      <td>1</td>\n",
              "      <td>58.8</td>\n",
              "      <td>13.520436</td>\n",
              "      <td>0</td>\n",
              "      <td>1.30</td>\n",
              "      <td>2.66</td>\n",
              "    </tr>\n",
              "    <tr>\n",
              "      <th>3</th>\n",
              "      <td>2</td>\n",
              "      <td>58.8</td>\n",
              "      <td>12.258544</td>\n",
              "      <td>0</td>\n",
              "      <td>1.32</td>\n",
              "      <td>2.68</td>\n",
              "    </tr>\n",
              "    <tr>\n",
              "      <th>4</th>\n",
              "      <td>1</td>\n",
              "      <td>58.8</td>\n",
              "      <td>13.945055</td>\n",
              "      <td>0</td>\n",
              "      <td>1.36</td>\n",
              "      <td>2.74</td>\n",
              "    </tr>\n",
              "    <tr>\n",
              "      <th>5</th>\n",
              "      <td>3</td>\n",
              "      <td>58.8</td>\n",
              "      <td>13.612903</td>\n",
              "      <td>0</td>\n",
              "      <td>1.32</td>\n",
              "      <td>2.78</td>\n",
              "    </tr>\n",
              "  </tbody>\n",
              "</table>\n",
              "</div>"
            ],
            "text/plain": [
              "   Category  km4week    sp4week  CrossTraining  Wall21  MarathonTime\n",
              "1         1     58.8  13.674419              0    1.23          2.59\n",
              "2         1     58.8  13.520436              0    1.30          2.66\n",
              "3         2     58.8  12.258544              0    1.32          2.68\n",
              "4         1     58.8  13.945055              0    1.36          2.74\n",
              "5         3     58.8  13.612903              0    1.32          2.78"
            ]
          },
          "execution_count": 504,
          "metadata": {},
          "output_type": "execute_result"
        }
      ],
      "source": [
        "data.head()"
      ]
    },
    {
      "cell_type": "code",
      "execution_count": null,
      "id": "2ed0d712-8d78-41e9-a1de-1283fabf478d",
      "metadata": {
        "id": "2ed0d712-8d78-41e9-a1de-1283fabf478d",
        "outputId": "ba24348a-ee30-4f25-d175-6dc01c97a220"
      },
      "outputs": [
        {
          "name": "stdout",
          "output_type": "stream",
          "text": [
            "<class 'pandas.core.frame.DataFrame'>\n",
            "Index: 84 entries, 1 to 86\n",
            "Data columns (total 6 columns):\n",
            " #   Column         Non-Null Count  Dtype  \n",
            "---  ------         --------------  -----  \n",
            " 0   Category       84 non-null     int64  \n",
            " 1   km4week        84 non-null     float64\n",
            " 2   sp4week        84 non-null     float64\n",
            " 3   CrossTraining  84 non-null     int64  \n",
            " 4   Wall21         84 non-null     float64\n",
            " 5   MarathonTime   84 non-null     float64\n",
            "dtypes: float64(4), int64(2)\n",
            "memory usage: 4.6 KB\n"
          ]
        }
      ],
      "source": [
        "data.info()"
      ]
    },
    {
      "cell_type": "code",
      "execution_count": null,
      "id": "8a703b76-0afd-4fff-a772-97eb719fd24a",
      "metadata": {
        "id": "8a703b76-0afd-4fff-a772-97eb719fd24a",
        "outputId": "c2028751-d4e1-463c-d9a0-29276e48fb2d"
      },
      "outputs": [
        {
          "data": {
            "text/html": [
              "<div>\n",
              "<style scoped>\n",
              "    .dataframe tbody tr th:only-of-type {\n",
              "        vertical-align: middle;\n",
              "    }\n",
              "\n",
              "    .dataframe tbody tr th {\n",
              "        vertical-align: top;\n",
              "    }\n",
              "\n",
              "    .dataframe thead th {\n",
              "        text-align: right;\n",
              "    }\n",
              "</style>\n",
              "<table border=\"1\" class=\"dataframe\">\n",
              "  <thead>\n",
              "    <tr style=\"text-align: right;\">\n",
              "      <th></th>\n",
              "      <th>Category</th>\n",
              "      <th>km4week</th>\n",
              "      <th>sp4week</th>\n",
              "      <th>CrossTraining</th>\n",
              "      <th>Wall21</th>\n",
              "      <th>MarathonTime</th>\n",
              "    </tr>\n",
              "  </thead>\n",
              "  <tbody>\n",
              "    <tr>\n",
              "      <th>count</th>\n",
              "      <td>84.000000</td>\n",
              "      <td>8.400000e+01</td>\n",
              "      <td>84.000000</td>\n",
              "      <td>84.000000</td>\n",
              "      <td>84.000000</td>\n",
              "      <td>84.000000</td>\n",
              "    </tr>\n",
              "    <tr>\n",
              "      <th>mean</th>\n",
              "      <td>2.023810</td>\n",
              "      <td>5.880000e+01</td>\n",
              "      <td>12.090536</td>\n",
              "      <td>0.464286</td>\n",
              "      <td>1.641592</td>\n",
              "      <td>3.340476</td>\n",
              "    </tr>\n",
              "    <tr>\n",
              "      <th>std</th>\n",
              "      <td>1.414011</td>\n",
              "      <td>1.000734e-13</td>\n",
              "      <td>0.916064</td>\n",
              "      <td>1.206872</td>\n",
              "      <td>0.196616</td>\n",
              "      <td>0.362700</td>\n",
              "    </tr>\n",
              "    <tr>\n",
              "      <th>min</th>\n",
              "      <td>1.000000</td>\n",
              "      <td>5.880000e+01</td>\n",
              "      <td>9.907734</td>\n",
              "      <td>0.000000</td>\n",
              "      <td>1.230000</td>\n",
              "      <td>2.590000</td>\n",
              "    </tr>\n",
              "    <tr>\n",
              "      <th>25%</th>\n",
              "      <td>1.000000</td>\n",
              "      <td>5.880000e+01</td>\n",
              "      <td>11.555808</td>\n",
              "      <td>0.000000</td>\n",
              "      <td>1.500000</td>\n",
              "      <td>3.097500</td>\n",
              "    </tr>\n",
              "    <tr>\n",
              "      <th>50%</th>\n",
              "      <td>1.000000</td>\n",
              "      <td>5.880000e+01</td>\n",
              "      <td>12.163424</td>\n",
              "      <td>0.000000</td>\n",
              "      <td>1.630617</td>\n",
              "      <td>3.325000</td>\n",
              "    </tr>\n",
              "    <tr>\n",
              "      <th>75%</th>\n",
              "      <td>3.000000</td>\n",
              "      <td>5.880000e+01</td>\n",
              "      <td>12.698590</td>\n",
              "      <td>0.000000</td>\n",
              "      <td>1.760000</td>\n",
              "      <td>3.625000</td>\n",
              "    </tr>\n",
              "    <tr>\n",
              "      <th>max</th>\n",
              "      <td>6.000000</td>\n",
              "      <td>5.880000e+01</td>\n",
              "      <td>13.945055</td>\n",
              "      <td>5.000000</td>\n",
              "      <td>2.050000</td>\n",
              "      <td>3.980000</td>\n",
              "    </tr>\n",
              "  </tbody>\n",
              "</table>\n",
              "</div>"
            ],
            "text/plain": [
              "        Category       km4week    sp4week  CrossTraining     Wall21  \\\n",
              "count  84.000000  8.400000e+01  84.000000      84.000000  84.000000   \n",
              "mean    2.023810  5.880000e+01  12.090536       0.464286   1.641592   \n",
              "std     1.414011  1.000734e-13   0.916064       1.206872   0.196616   \n",
              "min     1.000000  5.880000e+01   9.907734       0.000000   1.230000   \n",
              "25%     1.000000  5.880000e+01  11.555808       0.000000   1.500000   \n",
              "50%     1.000000  5.880000e+01  12.163424       0.000000   1.630617   \n",
              "75%     3.000000  5.880000e+01  12.698590       0.000000   1.760000   \n",
              "max     6.000000  5.880000e+01  13.945055       5.000000   2.050000   \n",
              "\n",
              "       MarathonTime  \n",
              "count     84.000000  \n",
              "mean       3.340476  \n",
              "std        0.362700  \n",
              "min        2.590000  \n",
              "25%        3.097500  \n",
              "50%        3.325000  \n",
              "75%        3.625000  \n",
              "max        3.980000  "
            ]
          },
          "execution_count": 506,
          "metadata": {},
          "output_type": "execute_result"
        }
      ],
      "source": [
        "data.describe()"
      ]
    },
    {
      "cell_type": "code",
      "execution_count": null,
      "id": "fd17592d-e843-4e9a-b40e-ab0494a42800",
      "metadata": {
        "id": "fd17592d-e843-4e9a-b40e-ab0494a42800"
      },
      "outputs": [],
      "source": []
    },
    {
      "cell_type": "code",
      "execution_count": null,
      "id": "6267045a-11e8-4c07-aa6e-0d82f6638ce8",
      "metadata": {
        "id": "6267045a-11e8-4c07-aa6e-0d82f6638ce8"
      },
      "outputs": [],
      "source": []
    },
    {
      "cell_type": "code",
      "execution_count": null,
      "id": "271c881b-21e0-4af0-81e0-65219443584a",
      "metadata": {
        "id": "271c881b-21e0-4af0-81e0-65219443584a"
      },
      "outputs": [],
      "source": []
    },
    {
      "cell_type": "code",
      "execution_count": null,
      "id": "a0f5cfb0-96cc-4ace-bca2-90aa9429971a",
      "metadata": {
        "id": "a0f5cfb0-96cc-4ace-bca2-90aa9429971a"
      },
      "outputs": [],
      "source": []
    },
    {
      "cell_type": "code",
      "execution_count": null,
      "id": "8fcdb4e4-37b6-4513-ae71-f89b0c438840",
      "metadata": {
        "id": "8fcdb4e4-37b6-4513-ae71-f89b0c438840"
      },
      "outputs": [],
      "source": []
    },
    {
      "cell_type": "code",
      "execution_count": null,
      "id": "a5ebacc1-bb93-4cee-be55-ea814bf74c3b",
      "metadata": {
        "id": "a5ebacc1-bb93-4cee-be55-ea814bf74c3b"
      },
      "outputs": [],
      "source": []
    },
    {
      "cell_type": "code",
      "execution_count": null,
      "id": "9c6ab4d3-0c70-4632-81e1-bcdec223cadc",
      "metadata": {
        "id": "9c6ab4d3-0c70-4632-81e1-bcdec223cadc"
      },
      "outputs": [],
      "source": []
    },
    {
      "cell_type": "code",
      "execution_count": null,
      "id": "84fe5aec-5e11-4ea4-9ada-dbc1e5043234",
      "metadata": {
        "id": "84fe5aec-5e11-4ea4-9ada-dbc1e5043234"
      },
      "outputs": [],
      "source": []
    },
    {
      "cell_type": "code",
      "execution_count": null,
      "id": "11df8df9-b184-4e12-bcf3-ceb379fefcfe",
      "metadata": {
        "id": "11df8df9-b184-4e12-bcf3-ceb379fefcfe"
      },
      "outputs": [],
      "source": []
    },
    {
      "cell_type": "code",
      "execution_count": null,
      "id": "c5acf5cb-c2eb-4c14-8649-ff49550bc420",
      "metadata": {
        "id": "c5acf5cb-c2eb-4c14-8649-ff49550bc420"
      },
      "outputs": [],
      "source": []
    },
    {
      "cell_type": "code",
      "execution_count": null,
      "id": "f2d020a6-4e2a-41a3-9d89-c65e0e6573ff",
      "metadata": {
        "id": "f2d020a6-4e2a-41a3-9d89-c65e0e6573ff"
      },
      "outputs": [],
      "source": []
    },
    {
      "cell_type": "code",
      "execution_count": null,
      "id": "16e217f3-a3d9-4015-885c-8db7af651350",
      "metadata": {
        "id": "16e217f3-a3d9-4015-885c-8db7af651350"
      },
      "outputs": [],
      "source": []
    },
    {
      "cell_type": "code",
      "execution_count": null,
      "id": "dc6b053f-48c1-4269-93b2-a55c0c0cc885",
      "metadata": {
        "id": "dc6b053f-48c1-4269-93b2-a55c0c0cc885"
      },
      "outputs": [],
      "source": []
    },
    {
      "cell_type": "code",
      "execution_count": null,
      "id": "37d47afa-1cfa-4ce5-98df-0096e1051cd1",
      "metadata": {
        "id": "37d47afa-1cfa-4ce5-98df-0096e1051cd1"
      },
      "outputs": [],
      "source": []
    },
    {
      "cell_type": "markdown",
      "id": "0f0369f6-9c08-470d-9a9d-5e05537a84ce",
      "metadata": {
        "id": "0f0369f6-9c08-470d-9a9d-5e05537a84ce"
      },
      "source": [
        "-----------------------------------------------"
      ]
    },
    {
      "cell_type": "markdown",
      "id": "c564ff0a-107b-4eea-9ffa-1972949157a1",
      "metadata": {
        "id": "c564ff0a-107b-4eea-9ffa-1972949157a1"
      },
      "source": [
        "---------------------------------------------------------------------------------------"
      ]
    },
    {
      "cell_type": "markdown",
      "id": "d1e5e2ea-ae22-4cbe-bf92-80ecc5a4652d",
      "metadata": {
        "id": "d1e5e2ea-ae22-4cbe-bf92-80ecc5a4652d"
      },
      "source": [
        "----------   SEGUNDA ETAPA ----------------------"
      ]
    },
    {
      "cell_type": "markdown",
      "id": "f5c1de65-64e5-425e-87a2-2b59729ca651",
      "metadata": {
        "id": "f5c1de65-64e5-425e-87a2-2b59729ca651"
      },
      "source": [
        "ETAPA DE ENTRENAMIENTO DEL MODELO"
      ]
    },
    {
      "cell_type": "code",
      "execution_count": null,
      "id": "f1e6d1b9-4dab-4a04-bc93-c52d45025147",
      "metadata": {
        "id": "f1e6d1b9-4dab-4a04-bc93-c52d45025147"
      },
      "outputs": [],
      "source": []
    },
    {
      "cell_type": "code",
      "execution_count": null,
      "id": "7026ce5e-4ee6-4f9f-8a90-3b0a5f7645cb",
      "metadata": {
        "id": "7026ce5e-4ee6-4f9f-8a90-3b0a5f7645cb",
        "outputId": "4691420c-1f65-4db2-9470-164ae8455462"
      },
      "outputs": [
        {
          "name": "stdout",
          "output_type": "stream",
          "text": [
            "Coeficiente (pendiente): 1.6964656973686443\n",
            "Intercepción: 0.5439264556444647\n",
            "Error cuadrático medio (MSE): 0.029284757757604942\n",
            "Coeficiente de determinación (R^2): 0.8658153808350386\n"
          ]
        }
      ],
      "source": [
        "import numpy as np\n",
        "import matplotlib.pyplot as plt\n",
        "from sklearn.model_selection import train_test_split\n",
        "from sklearn.linear_model import LinearRegression\n",
        "from sklearn.metrics import mean_squared_error, r2_score\n",
        "\n",
        "# Definir la variable independiente (X) y la variable dependiente (y)\n",
        "X = data[['Wall21']]  # Wall21 como variable independiente\n",
        "y = data['MarathonTime']  # MarathonTime como variable dependiente\n",
        "\n",
        "# Dividir los datos en conjuntos de entrenamiento y prueba (80% entrenamiento, 20% prueba)\n",
        "X_train, X_test, y_train, y_test = train_test_split(X, y, test_size=0.2, random_state=42)\n",
        "\n",
        "# Crear el modelo de regresión lineal\n",
        "modelo = LinearRegression()\n",
        "\n",
        "# Entrenar el modelo con los datos de entrenamiento\n",
        "modelo.fit(X_train, y_train)\n",
        "\n",
        "# Predecir con los datos de prueba\n",
        "y_pred = modelo.predict(X_test)\n",
        "\n",
        "# Evaluar el modelo\n",
        "mse = mean_squared_error(y_test, y_pred)\n",
        "r2 = r2_score(y_test, y_pred)\n",
        "\n",
        "# Mostrar los coeficientes y la evaluación del modelo\n",
        "print(\"Coeficiente (pendiente):\", modelo.coef_[0])\n",
        "print(\"Intercepción:\", modelo.intercept_)\n",
        "print(f\"Error cuadrático medio (MSE): {mse}\")\n",
        "print(f\"Coeficiente de determinación (R^2): {r2}\")\n"
      ]
    }
  ],
  "metadata": {
    "kernelspec": {
      "display_name": "Python 3 (ipykernel)",
      "language": "python",
      "name": "python3"
    },
    "language_info": {
      "codemirror_mode": {
        "name": "ipython",
        "version": 3
      },
      "file_extension": ".py",
      "mimetype": "text/x-python",
      "name": "python",
      "nbconvert_exporter": "python",
      "pygments_lexer": "ipython3",
      "version": "3.11.7"
    },
    "colab": {
      "provenance": [],
      "include_colab_link": true
    }
  },
  "nbformat": 4,
  "nbformat_minor": 5
}